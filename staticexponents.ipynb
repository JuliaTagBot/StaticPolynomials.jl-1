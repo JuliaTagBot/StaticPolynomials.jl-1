{
 "cells": [
  {
   "cell_type": "code",
   "execution_count": 1,
   "metadata": {
    "collapsed": true
   },
   "outputs": [],
   "source": [
    "using BenchmarkTools"
   ]
  },
  {
   "cell_type": "code",
   "execution_count": 128,
   "metadata": {
    "collapsed": false
   },
   "outputs": [
    {
     "name": "stderr",
     "output_type": "stream",
     "text": [
      "WARNING: replacing module sp\n"
     ]
    },
    {
     "data": {
      "text/plain": [
       "IJulia.sp"
      ]
     },
     "execution_count": 128,
     "metadata": {},
     "output_type": "execute_result"
    }
   ],
   "source": [
    "module sp\n",
    "\n",
    "import Base: *, +, ^, promote_rule, convert, show\n",
    "\n",
    "immutable Variable{Name}\n",
    "end\n",
    "\n",
    "show(io::IO, v::Variable{Name}) where Name = print(io, Name)\n",
    "\n",
    "immutable Monomial{Powers}\n",
    "end\n",
    "\n",
    "Monomial(v::Variable{Name}) where {Name} = Monomial{((v, 1),)}()\n",
    "\n",
    "function show(io::IO, m::Monomial{P}) where {P}\n",
    "    for power in P\n",
    "        print(io, power[1], \"^\", power[2])\n",
    "    end\n",
    "end\n",
    "\n",
    "immutable Term{Mono, T}\n",
    "    coefficient::T\n",
    "    Term{Mono}(c::T) where{Mono, T} = new{Mono, T}(c)\n",
    "    Term{Mono, T}(c::T) where{Mono, T} = new{Mono, T}(c)\n",
    "end\n",
    "\n",
    "Term(mono::Monomial{Powers}) where Powers = Term{mono}(1)\n",
    "\n",
    "function show(io::IO, t::Term{Mono, T}) where {Mono, T}\n",
    "    print(io, t.coefficient, Mono)\n",
    "end\n",
    "\n",
    "\n",
    "immutable Polynomial{T <: Tuple}\n",
    "    terms::T\n",
    "end\n",
    "\n",
    "(^)(v::Variable, ::Type{Val{x}}) where x = Monomial{((v, x),)}()\n",
    "(*)(v1::Variable{Name}, v2::Variable{Name}) where Name = Monomial{((v1, 2),)}()\n",
    "@generated function (*)(v1::Variable{N1}, v2::Variable{N2}) where {N1, N2}\n",
    "    @assert N1 != N2\n",
    "    if N1 < N2\n",
    "        quote\n",
    "            Monomial{((v1, 1), (v2, 1))}()\n",
    "        end\n",
    "    else\n",
    "        quote\n",
    "            Monomial{((v2, 1), (v1, 1))}()\n",
    "        end\n",
    "    end\n",
    "end\n",
    "\n",
    "(+)(t1::Term{M, T}, t2::Term{M, T}) where {M, T} = Term{M}(t1.coefficient + t2.coefficient)\n",
    "(+)(m1::Monomial, m2::Monomial) = Term(m1) + Term(m2)\n",
    "(+)(v1::Variable, v2::Variable) = Term(Monomial(v1)) + Term(Monomial(v2))\n",
    "(*)(x::Number, t::T) where T <: Term = T(x * t.coefficient)\n",
    "(*)(x::Number, m::Monomial) = x * Term(m)\n",
    "\n",
    "\n",
    "end"
   ]
  },
  {
   "cell_type": "code",
   "execution_count": 129,
   "metadata": {
    "collapsed": false
   },
   "outputs": [
    {
     "data": {
      "text/plain": [
       "y"
      ]
     },
     "execution_count": 129,
     "metadata": {},
     "output_type": "execute_result"
    }
   ],
   "source": [
    "x = sp.Variable{:x}()\n",
    "y = sp.Variable{:y}()"
   ]
  },
  {
   "cell_type": "code",
   "execution_count": 130,
   "metadata": {
    "collapsed": false
   },
   "outputs": [
    {
     "data": {
      "text/plain": [
       "x^2"
      ]
     },
     "execution_count": 130,
     "metadata": {},
     "output_type": "execute_result"
    }
   ],
   "source": [
    "x * x"
   ]
  },
  {
   "cell_type": "code",
   "execution_count": 131,
   "metadata": {
    "collapsed": false
   },
   "outputs": [
    {
     "data": {
      "text/plain": [
       "2x^1"
      ]
     },
     "execution_count": 131,
     "metadata": {},
     "output_type": "execute_result"
    }
   ],
   "source": [
    "x + x"
   ]
  },
  {
   "cell_type": "code",
   "execution_count": 132,
   "metadata": {
    "collapsed": false
   },
   "outputs": [
    {
     "data": {
      "text/plain": [
       "x^1y^1"
      ]
     },
     "execution_count": 132,
     "metadata": {},
     "output_type": "execute_result"
    }
   ],
   "source": [
    "x * y"
   ]
  },
  {
   "cell_type": "code",
   "execution_count": 135,
   "metadata": {
    "collapsed": false
   },
   "outputs": [
    {
     "data": {
      "text/plain": [
       "4x^1y^1"
      ]
     },
     "execution_count": 135,
     "metadata": {},
     "output_type": "execute_result"
    }
   ],
   "source": [
    "1 * (x * y) + 3 * (x * y)"
   ]
  },
  {
   "cell_type": "code",
   "execution_count": 85,
   "metadata": {
    "collapsed": false
   },
   "outputs": [
    {
     "data": {
      "text/plain": [
       "2x^1"
      ]
     },
     "execution_count": 85,
     "metadata": {},
     "output_type": "execute_result"
    }
   ],
   "source": [
    "x^1 + x^1"
   ]
  },
  {
   "cell_type": "code",
   "execution_count": 68,
   "metadata": {
    "collapsed": false
   },
   "outputs": [
    {
     "data": {
      "text/plain": [
       "x^1y^1"
      ]
     },
     "execution_count": 68,
     "metadata": {},
     "output_type": "execute_result"
    }
   ],
   "source": [
    "x * y"
   ]
  },
  {
   "cell_type": "code",
   "execution_count": null,
   "metadata": {
    "collapsed": true
   },
   "outputs": [],
   "source": []
  },
  {
   "cell_type": "code",
   "execution_count": null,
   "metadata": {
    "collapsed": true
   },
   "outputs": [],
   "source": [
    "sp.Monomial{}"
   ]
  },
  {
   "cell_type": "code",
   "execution_count": 16,
   "metadata": {
    "collapsed": false
   },
   "outputs": [
    {
     "ename": "LoadError",
     "evalue": "\u001b[91mUndefVarError: x not defined\u001b[39m",
     "output_type": "error",
     "traceback": [
      "\u001b[91mUndefVarError: x not defined\u001b[39m",
      "",
      "Stacktrace:",
      " [1] \u001b[1mmacro expansion\u001b[22m\u001b[22m at \u001b[1m./In[7]:37\u001b[22m\u001b[22m [inlined]",
      " [2] \u001b[1mpromote_rule\u001b[22m\u001b[22m at \u001b[1m./In[7]:27\u001b[22m\u001b[22m [inlined]",
      " [3] \u001b[1mpromote_type\u001b[22m\u001b[22m at \u001b[1m./promotion.jl:161\u001b[22m\u001b[22m [inlined]",
      " [4] \u001b[1mpromote\u001b[22m\u001b[22m\u001b[1m(\u001b[22m\u001b[22m::IJulia.sp.Power{:x,1}, ::IJulia.sp.Power{:y,1}\u001b[1m)\u001b[22m\u001b[22m at \u001b[1m./promotion.jl:174\u001b[22m\u001b[22m"
     ]
    }
   ],
   "source": [
    "Base.promote(sp.Power(x), sp.Power(y))"
   ]
  },
  {
   "cell_type": "code",
   "execution_count": 37,
   "metadata": {
    "collapsed": false
   },
   "outputs": [
    {
     "name": "stdout",
     "output_type": "stream",
     "text": [
      "Variables:\n",
      "  #self#::Base.#*\n",
      "  v1::IJulia.sp.Variable{:x}\n",
      "  v2::IJulia.sp.Variable{:x}\n",
      "\n",
      "Body:\n",
      "  begin \n",
      "      return $(QuoteNode(x^2))\n",
      "  end::IJulia.sp.Power{x,2}\n"
     ]
    }
   ],
   "source": [
    "@code_warntype x * x"
   ]
  },
  {
   "cell_type": "code",
   "execution_count": 19,
   "metadata": {
    "collapsed": false
   },
   "outputs": [
    {
     "data": {
      "text/plain": [
       "x^2"
      ]
     },
     "execution_count": 19,
     "metadata": {},
     "output_type": "execute_result"
    }
   ],
   "source": [
    "p = sp.Power{x, 2}()"
   ]
  },
  {
   "cell_type": "code",
   "execution_count": null,
   "metadata": {
    "collapsed": true
   },
   "outputs": [],
   "source": []
  }
 ],
 "metadata": {
  "kernelspec": {
   "display_name": "Julia 0.6.0-pre.alpha",
   "language": "julia",
   "name": "julia-0.6"
  },
  "language_info": {
   "file_extension": ".jl",
   "mimetype": "application/julia",
   "name": "julia",
   "version": "0.6.0"
  }
 },
 "nbformat": 4,
 "nbformat_minor": 2
}
