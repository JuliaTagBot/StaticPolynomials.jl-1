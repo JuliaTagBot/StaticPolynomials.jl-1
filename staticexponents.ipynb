{
 "cells": [
  {
   "cell_type": "code",
   "execution_count": 2,
   "metadata": {
    "collapsed": false
   },
   "outputs": [],
   "source": [
    "using BenchmarkTools"
   ]
  },
  {
   "cell_type": "code",
   "execution_count": 155,
   "metadata": {
    "collapsed": false
   },
   "outputs": [
    {
     "name": "stderr",
     "output_type": "stream",
     "text": [
      "WARNING: replacing module sp\n"
     ]
    },
    {
     "data": {
      "text/plain": [
       "IJulia.sp"
      ]
     },
     "execution_count": 155,
     "metadata": {},
     "output_type": "execute_result"
    }
   ],
   "source": [
    "include(\"src/staticexponents.jl\")"
   ]
  },
  {
   "cell_type": "code",
   "execution_count": 156,
   "metadata": {
    "collapsed": false
   },
   "outputs": [
    {
     "data": {
      "text/plain": [
       "y"
      ]
     },
     "execution_count": 156,
     "metadata": {},
     "output_type": "execute_result"
    }
   ],
   "source": [
    "x = sp.Variable{:x}()\n",
    "y = sp.Variable{:y}()"
   ]
  },
  {
   "cell_type": "code",
   "execution_count": 157,
   "metadata": {
    "collapsed": false
   },
   "outputs": [
    {
     "data": {
      "text/plain": [
       "3xy"
      ]
     },
     "execution_count": 157,
     "metadata": {},
     "output_type": "execute_result"
    }
   ],
   "source": [
    "t = 3 * x * y"
   ]
  },
  {
   "cell_type": "code",
   "execution_count": 158,
   "metadata": {
    "collapsed": false
   },
   "outputs": [
    {
     "data": {
      "text/plain": [
       "3x^2 + 1y"
      ]
     },
     "execution_count": 158,
     "metadata": {},
     "output_type": "execute_result"
    }
   ],
   "source": [
    "p = 3x^2 + y"
   ]
  },
  {
   "cell_type": "code",
   "execution_count": 159,
   "metadata": {
    "collapsed": false
   },
   "outputs": [
    {
     "data": {
      "text/plain": [
       "12.0"
      ]
     },
     "execution_count": 159,
     "metadata": {},
     "output_type": "execute_result"
    }
   ],
   "source": [
    "sp.subs(p.terms[1], x=>2)"
   ]
  },
  {
   "cell_type": "code",
   "execution_count": 160,
   "metadata": {
    "collapsed": false
   },
   "outputs": [
    {
     "data": {
      "text/plain": [
       "13.0"
      ]
     },
     "execution_count": 160,
     "metadata": {},
     "output_type": "execute_result"
    }
   ],
   "source": [
    "sp.subs(p, x=>2, y=>1)"
   ]
  },
  {
   "cell_type": "code",
   "execution_count": 162,
   "metadata": {
    "collapsed": false
   },
   "outputs": [
    {
     "name": "stdout",
     "output_type": "stream",
     "text": [
      "Variables:\n",
      "  #self#::IJulia.sp.#subs\n",
      "  p::IJulia.sp.Polynomial{Tuple{IJulia.sp.Term{x^2,Int64},IJulia.sp.Term{y,Int64}}}\n",
      "  s::Tuple{Pair{IJulia.sp.Variable{:x},Int64},Pair{IJulia.sp.Variable{:y},Int64}}\n",
      "\n",
      "Body:\n",
      "  begin  # line 201:\n",
      "      $(Expr(:inbounds, false))\n",
      "      # meta: location /Users/rdeits/.julia/v0.5/StaticPolynomials/src/staticexponents.jl subs 193\n",
      "      # meta: location /Users/rdeits/.julia/v0.5/StaticPolynomials/src/staticexponents.jl subs 174\n",
      "      SSAValue(3) = $(Expr(:invoke, MethodInstance for ^(::Int64, ::Float64), :(Base.^), :((Core.getfield)((Core.getfield)(s, 1)::Pair{IJulia.sp.Variable{:x},Int64}, :second)::Int64), :((Base.div_float)((Base.sitofp)(Float64, (Core.getfield)(2//1, :num)::Int64)::Float64, (Base.sitofp)(Float64, (Core.getfield)(2//1, :den)::Int64)::Float64)::Float64)))\n",
      "      # meta: pop location\n",
      "      # meta: pop location\n",
      "      $(Expr(:inbounds, :pop))\n",
      "      $(Expr(:inbounds, false))\n",
      "      # meta: location /Users/rdeits/.julia/v0.5/StaticPolynomials/src/staticexponents.jl subs 193\n",
      "      # meta: location /Users/rdeits/.julia/v0.5/StaticPolynomials/src/staticexponents.jl subs 174\n",
      "      # meta: location /Users/rdeits/.julia/v0.5/StaticPolynomials/src/staticexponents.jl # line 187:\n",
      "      SSAValue(2) = (Core.getfield)((Base.getfield)((Core.getfield)(p::IJulia.sp.Polynomial{Tuple{IJulia.sp.Term{x^2,Int64},IJulia.sp.Term{y,Int64}}}, :terms)::Tuple{IJulia.sp.Term{x^2,Int64},IJulia.sp.Term{y,Int64}}, 2)::IJulia.sp.Term{y,Int64}, :coefficient)::Int64\n",
      "      # meta: pop location\n",
      "      # meta: pop location\n",
      "      # meta: location /Users/rdeits/.julia/v0.5/StaticPolynomials/src/staticexponents.jl subs 174\n",
      "      SSAValue(1) = $(Expr(:invoke, MethodInstance for ^(::Int64, ::Float64), :(Base.^), :((Core.getfield)((Core.getfield)(s, 2)::Pair{IJulia.sp.Variable{:y},Int64}, :second)::Int64), :((Base.div_float)((Base.sitofp)(Float64, (Core.getfield)(1//1, :num)::Int64)::Float64, (Base.sitofp)(Float64, (Core.getfield)(1//1, :den)::Int64)::Float64)::Float64)))\n",
      "      # meta: pop location\n",
      "      # meta: pop location\n",
      "      $(Expr(:inbounds, :pop))\n",
      "      return (Base.add_float)((Base.mul_float)((Base.sitofp)(Float64, (Core.getfield)((Base.getfield)((Core.getfield)(p::IJulia.sp.Polynomial{Tuple{IJulia.sp.Term{x^2,Int64},IJulia.sp.Term{y,Int64}}}, :terms)::Tuple{IJulia.sp.Term{x^2,Int64},IJulia.sp.Term{y,Int64}}, 1)::IJulia.sp.Term{x^2,Int64}, :coefficient)::Int64)::Float64, SSAValue(3))::Float64, (Base.mul_float)((Base.sitofp)(Float64, SSAValue(2))::Float64, SSAValue(1))::Float64)::Float64\n",
      "  end::Float64\n"
     ]
    }
   ],
   "source": [
    "@code_warntype sp.subs(p, x=>2, y=>1)"
   ]
  },
  {
   "cell_type": "code",
   "execution_count": 104,
   "metadata": {
    "collapsed": false
   },
   "outputs": [
    {
     "data": {
      "text/plain": [
       "30.0"
      ]
     },
     "execution_count": 104,
     "metadata": {},
     "output_type": "execute_result"
    }
   ],
   "source": [
    "t(x=>2, y=>5)"
   ]
  },
  {
   "cell_type": "code",
   "execution_count": 105,
   "metadata": {
    "collapsed": false
   },
   "outputs": [
    {
     "name": "stdout",
     "output_type": "stream",
     "text": [
      "Variables:\n",
      "  m::IJulia.sp.Term{xy,Int64}\n",
      "  args::Tuple{Pair{IJulia.sp.Variable{:x},Int64},Pair{IJulia.sp.Variable{:y},Int64}}\n",
      "\n",
      "Body:\n",
      "  begin \n",
      "      SSAValue(5) = (Core.getfield)(args::Tuple{Pair{IJulia.sp.Variable{:x},Int64},Pair{IJulia.sp.Variable{:y},Int64}}, 1)::Pair{IJulia.sp.Variable{:x},Int64}\n",
      "      SSAValue(6) = (Core.getfield)(args::Tuple{Pair{IJulia.sp.Variable{:x},Int64},Pair{IJulia.sp.Variable{:y},Int64}}, 2)::Pair{IJulia.sp.Variable{:y},Int64}\n",
      "      $(Expr(:inbounds, false))\n",
      "      # meta: location /Users/rdeits/.julia/v0.5/StaticPolynomials/src/staticexponents.jl subs 190\n",
      "      # meta: location /Users/rdeits/.julia/v0.5/StaticPolynomials/src/staticexponents.jl subs 171\n",
      "      # meta: location /Users/rdeits/.julia/v0.5/StaticPolynomials/src/staticexponents.jl # line 184:\n",
      "      SSAValue(2) = $(Expr(:invoke, MethodInstance for ^(::Int64, ::Float64), :(Base.^), :((Core.getfield)(SSAValue(5), :second)::Int64), :((Base.div_float)((Base.sitofp)(Float64, (Core.getfield)(1//1, :num)::Int64)::Float64, (Base.sitofp)(Float64, (Core.getfield)(1//1, :den)::Int64)::Float64)::Float64)))\n",
      "      SSAValue(4) = (Base.mul_float)((Base.sitofp)(Float64, (Core.getfield)(m::IJulia.sp.Term{xy,Int64}, :coefficient)::Int64)::Float64, SSAValue(2))::Float64\n",
      "      # meta: pop location\n",
      "      # meta: pop location\n",
      "      # meta: location /Users/rdeits/.julia/v0.5/StaticPolynomials/src/staticexponents.jl subs 171\n",
      "      SSAValue(3) = $(Expr(:invoke, MethodInstance for ^(::Int64, ::Float64), :(Base.^), :((Core.getfield)(SSAValue(6), :second)::Int64), :((Base.div_float)((Base.sitofp)(Float64, (Core.getfield)(1//1, :num)::Int64)::Float64, (Base.sitofp)(Float64, (Core.getfield)(1//1, :den)::Int64)::Float64)::Float64)))\n",
      "      # meta: pop location\n",
      "      # meta: pop location\n",
      "      $(Expr(:inbounds, :pop))\n",
      "      return (Base.mul_float)(SSAValue(4), SSAValue(3))::Float64\n",
      "  end::Float64\n"
     ]
    }
   ],
   "source": [
    "@code_warntype t(x=>2, y=>5)"
   ]
  },
  {
   "cell_type": "code",
   "execution_count": 106,
   "metadata": {
    "collapsed": false
   },
   "outputs": [
    {
     "data": {
      "text/plain": [
       "6.0y"
      ]
     },
     "execution_count": 106,
     "metadata": {},
     "output_type": "execute_result"
    }
   ],
   "source": [
    "t(x=>2)"
   ]
  },
  {
   "cell_type": "code",
   "execution_count": 107,
   "metadata": {
    "collapsed": false
   },
   "outputs": [
    {
     "name": "stdout",
     "output_type": "stream",
     "text": [
      "Variables:\n",
      "  m::IJulia.sp.Term{xy,Int64}\n",
      "  args::Tuple{Pair{IJulia.sp.Variable{:x},Int64}}\n",
      "\n",
      "Body:\n",
      "  begin \n",
      "      $(Expr(:inbounds, false))\n",
      "      # meta: location /Users/rdeits/.julia/v0.5/StaticPolynomials/src/staticexponents.jl subs 171\n",
      "      # meta: location /Users/rdeits/.julia/v0.5/StaticPolynomials/src/staticexponents.jl # line 184:\n",
      "      SSAValue(1) = $(Expr(:invoke, MethodInstance for ^(::Int64, ::Float64), :(Base.^), :((Core.getfield)((Core.getfield)(args, 1)::Pair{IJulia.sp.Variable{:x},Int64}, :second)::Int64), :((Base.div_float)((Base.sitofp)(Float64, (Core.getfield)(1//1, :num)::Int64)::Float64, (Base.sitofp)(Float64, (Core.getfield)(1//1, :den)::Int64)::Float64)::Float64)))\n",
      "      SSAValue(0) = $(Expr(:new, :($(QuoteNode(IJulia.sp.Term{y,Float64}))), :((Base.mul_float)((Base.sitofp)(Float64, (Core.getfield)(m, :coefficient)::Int64)::Float64, SSAValue(1))::Float64)))\n",
      "      # meta: pop location\n",
      "      # meta: pop location\n",
      "      $(Expr(:inbounds, :pop))\n",
      "      return SSAValue(0)\n",
      "  end::IJulia.sp.Term{y,Float64}\n"
     ]
    }
   ],
   "source": [
    "@code_warntype t(x=>2)"
   ]
  },
  {
   "cell_type": "code",
   "execution_count": 64,
   "metadata": {
    "collapsed": false
   },
   "outputs": [
    {
     "data": {
      "text/plain": [
       "Pair{IJulia.sp.Variable{:x},Int64}"
      ]
     },
     "execution_count": 64,
     "metadata": {},
     "output_type": "execute_result"
    }
   ],
   "source": [
    "typeof(x => 2)"
   ]
  },
  {
   "cell_type": "code",
   "execution_count": 65,
   "metadata": {
    "collapsed": false
   },
   "outputs": [
    {
     "data": {
      "text/plain": [
       "x=>2"
      ]
     },
     "execution_count": 65,
     "metadata": {},
     "output_type": "execute_result"
    }
   ],
   "source": [
    "z = x => 2"
   ]
  },
  {
   "cell_type": "code",
   "execution_count": 66,
   "metadata": {
    "collapsed": false
   },
   "outputs": [
    {
     "name": "stdout",
     "output_type": "stream",
     "text": [
      "Pair{IJulia.sp.Variable{:x},Int64}\n",
      "  first: IJulia.sp.Variable{:x} x\n",
      "  second: Int64 2\n"
     ]
    }
   ],
   "source": [
    "dump(z)"
   ]
  },
  {
   "cell_type": "code",
   "execution_count": 63,
   "metadata": {
    "collapsed": false
   },
   "outputs": [
    {
     "data": {
      "text/plain": [
       "6.0y"
      ]
     },
     "execution_count": 63,
     "metadata": {},
     "output_type": "execute_result"
    }
   ],
   "source": [
    "sp.subs(t, x, 2)"
   ]
  },
  {
   "cell_type": "code",
   "execution_count": 37,
   "metadata": {
    "collapsed": false
   },
   "outputs": [
    {
     "name": "stdout",
     "output_type": "stream",
     "text": [
      "Variables:\n",
      "  #self#::Base.#+\n",
      "  v1::IJulia.sp.Monomial{(x^2,)}\n",
      "  v2::IJulia.sp.Variable{:y}\n",
      "\n",
      "Body:\n",
      "  begin \n",
      "      return $(Expr(:new, :($(QuoteNode(IJulia.sp.Polynomial{Tuple{IJulia.sp.Term{x^2,Int64},IJulia.sp.Term{y,Int64}}}))), :((Core.tuple)($(Expr(:new, :($(QuoteNode(IJulia.sp.Term{x^2,Int64}))), 1)), $(Expr(:new, :($(QuoteNode(IJulia.sp.Term{y,Int64}))), 1)))::Tuple{IJulia.sp.Term{x^2,Int64},IJulia.sp.Term{y,Int64}})))\n",
      "  end::IJulia.sp.Polynomial{Tuple{IJulia.sp.Term{x^2,Int64},IJulia.sp.Term{y,Int64}}}\n"
     ]
    }
   ],
   "source": [
    "@code_warntype x * x + y"
   ]
  },
  {
   "cell_type": "code",
   "execution_count": 38,
   "metadata": {
    "collapsed": false
   },
   "outputs": [
    {
     "data": {
      "text/plain": [
       "BenchmarkTools.Trial: \n",
       "  memory estimate:  0 bytes\n",
       "  allocs estimate:  0\n",
       "  --------------\n",
       "  minimum time:     1.694 ns (0.00% GC)\n",
       "  median time:      1.738 ns (0.00% GC)\n",
       "  mean time:        1.818 ns (0.00% GC)\n",
       "  maximum time:     9.446 ns (0.00% GC)\n",
       "  --------------\n",
       "  samples:          10000\n",
       "  evals/sample:     1000\n",
       "  time tolerance:   5.00%\n",
       "  memory tolerance: 1.00%"
      ]
     },
     "execution_count": 38,
     "metadata": {},
     "output_type": "execute_result"
    }
   ],
   "source": [
    "@benchmark $x^2 + $y"
   ]
  },
  {
   "cell_type": "code",
   "execution_count": 39,
   "metadata": {
    "collapsed": false
   },
   "outputs": [
    {
     "data": {
      "text/plain": [
       "BenchmarkTools.Trial: \n",
       "  memory estimate:  0 bytes\n",
       "  allocs estimate:  0\n",
       "  --------------\n",
       "  minimum time:     1.984 ns (0.00% GC)\n",
       "  median time:      2.044 ns (0.00% GC)\n",
       "  mean time:        2.166 ns (0.00% GC)\n",
       "  maximum time:     35.285 ns (0.00% GC)\n",
       "  --------------\n",
       "  samples:          10000\n",
       "  evals/sample:     1000\n",
       "  time tolerance:   5.00%\n",
       "  memory tolerance: 1.00%"
      ]
     },
     "execution_count": 39,
     "metadata": {},
     "output_type": "execute_result"
    }
   ],
   "source": [
    "@benchmark $x^2 + $y + $x * $x + 3 * $x * $y + $x * $y^2"
   ]
  },
  {
   "cell_type": "code",
   "execution_count": 40,
   "metadata": {
    "collapsed": false
   },
   "outputs": [
    {
     "data": {
      "text/plain": [
       "1x + 1y"
      ]
     },
     "execution_count": 40,
     "metadata": {},
     "output_type": "execute_result"
    }
   ],
   "source": [
    "x + y"
   ]
  },
  {
   "cell_type": "code",
   "execution_count": 41,
   "metadata": {
    "collapsed": false
   },
   "outputs": [
    {
     "data": {
      "text/plain": [
       "x^2"
      ]
     },
     "execution_count": 41,
     "metadata": {},
     "output_type": "execute_result"
    }
   ],
   "source": [
    "x * x"
   ]
  },
  {
   "cell_type": "code",
   "execution_count": 42,
   "metadata": {
    "collapsed": false
   },
   "outputs": [
    {
     "data": {
      "text/plain": [
       "2x"
      ]
     },
     "execution_count": 42,
     "metadata": {},
     "output_type": "execute_result"
    }
   ],
   "source": [
    "x + x"
   ]
  },
  {
   "cell_type": "code",
   "execution_count": 43,
   "metadata": {
    "collapsed": false
   },
   "outputs": [
    {
     "data": {
      "text/plain": [
       "xy"
      ]
     },
     "execution_count": 43,
     "metadata": {},
     "output_type": "execute_result"
    }
   ],
   "source": [
    "x * y"
   ]
  },
  {
   "cell_type": "code",
   "execution_count": 44,
   "metadata": {
    "collapsed": false
   },
   "outputs": [
    {
     "data": {
      "text/plain": [
       "4xy"
      ]
     },
     "execution_count": 44,
     "metadata": {},
     "output_type": "execute_result"
    }
   ],
   "source": [
    "1 * (x * y) + 3 * (x * y)"
   ]
  },
  {
   "cell_type": "code",
   "execution_count": 45,
   "metadata": {
    "collapsed": false
   },
   "outputs": [
    {
     "data": {
      "text/plain": [
       "2x"
      ]
     },
     "execution_count": 45,
     "metadata": {},
     "output_type": "execute_result"
    }
   ],
   "source": [
    "x^1 + x^1"
   ]
  },
  {
   "cell_type": "code",
   "execution_count": 46,
   "metadata": {
    "collapsed": false
   },
   "outputs": [
    {
     "data": {
      "text/plain": [
       "xy"
      ]
     },
     "execution_count": 46,
     "metadata": {},
     "output_type": "execute_result"
    }
   ],
   "source": [
    "x * y"
   ]
  },
  {
   "cell_type": "code",
   "execution_count": null,
   "metadata": {
    "collapsed": true
   },
   "outputs": [],
   "source": []
  }
 ],
 "metadata": {
  "kernelspec": {
   "display_name": "Julia 0.6.0-pre.alpha",
   "language": "julia",
   "name": "julia-0.6"
  },
  "language_info": {
   "file_extension": ".jl",
   "mimetype": "application/julia",
   "name": "julia",
   "version": "0.6.0"
  }
 },
 "nbformat": 4,
 "nbformat_minor": 2
}
