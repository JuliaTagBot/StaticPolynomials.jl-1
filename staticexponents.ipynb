{
 "cells": [
  {
   "cell_type": "code",
   "execution_count": 48,
   "metadata": {
    "collapsed": false,
    "deletable": true,
    "editable": true
   },
   "outputs": [],
   "source": [
    "using BenchmarkTools"
   ]
  },
  {
   "cell_type": "code",
   "execution_count": 5,
   "metadata": {
    "collapsed": false
   },
   "outputs": [
    {
     "data": {
      "text/plain": [
       "\"subl\""
      ]
     },
     "execution_count": 5,
     "metadata": {},
     "output_type": "execute_result"
    }
   ],
   "source": [
    "ENV[\"EDITOR\"] = \"subl\""
   ]
  },
  {
   "cell_type": "code",
   "execution_count": 29,
   "metadata": {
    "collapsed": false,
    "deletable": true,
    "editable": true
   },
   "outputs": [
    {
     "name": "stderr",
     "output_type": "stream",
     "text": [
      "WARNING: replacing module sp\n"
     ]
    },
    {
     "data": {
      "text/plain": [
       "sp"
      ]
     },
     "execution_count": 29,
     "metadata": {},
     "output_type": "execute_result"
    }
   ],
   "source": [
    "include(\"src/staticexponents.jl\")"
   ]
  },
  {
   "cell_type": "code",
   "execution_count": 30,
   "metadata": {
    "collapsed": false,
    "deletable": true,
    "editable": true
   },
   "outputs": [
    {
     "data": {
      "text/plain": [
       "y"
      ]
     },
     "execution_count": 30,
     "metadata": {},
     "output_type": "execute_result"
    }
   ],
   "source": [
    "x = sp.Variable{:x}()\n",
    "y = sp.Variable{:y}()"
   ]
  },
  {
   "cell_type": "code",
   "execution_count": 31,
   "metadata": {
    "collapsed": false,
    "deletable": true,
    "editable": true
   },
   "outputs": [
    {
     "data": {
      "text/plain": [
       "3xy"
      ]
     },
     "execution_count": 31,
     "metadata": {},
     "output_type": "execute_result"
    }
   ],
   "source": [
    "t = 3 * x * y"
   ]
  },
  {
   "cell_type": "code",
   "execution_count": 32,
   "metadata": {
    "collapsed": false,
    "deletable": true,
    "editable": true
   },
   "outputs": [
    {
     "data": {
      "text/plain": [
       "3x^2 + 1y"
      ]
     },
     "execution_count": 32,
     "metadata": {},
     "output_type": "execute_result"
    }
   ],
   "source": [
    "p = 3x^2 + y"
   ]
  },
  {
   "cell_type": "code",
   "execution_count": 56,
   "metadata": {
    "collapsed": false
   },
   "outputs": [
    {
     "data": {
      "text/plain": [
       "sp.Polynomial{Tuple{sp.Term{x^2,Int64},sp.Term{y,Int64}}}"
      ]
     },
     "execution_count": 56,
     "metadata": {},
     "output_type": "execute_result"
    }
   ],
   "source": [
    "typeof(p)"
   ]
  },
  {
   "cell_type": "code",
   "execution_count": 39,
   "metadata": {
    "collapsed": false
   },
   "outputs": [
    {
     "data": {
      "text/plain": [
       "1x^2"
      ]
     },
     "execution_count": 39,
     "metadata": {},
     "output_type": "execute_result"
    }
   ],
   "source": [
    "t1 = sp.Term(x)\n",
    "t2 = sp.Term(x^2)"
   ]
  },
  {
   "cell_type": "code",
   "execution_count": 40,
   "metadata": {
    "collapsed": false
   },
   "outputs": [
    {
     "data": {
      "text/plain": [
       "sp.Term{x^2,Int64}"
      ]
     },
     "execution_count": 40,
     "metadata": {},
     "output_type": "execute_result"
    }
   ],
   "source": [
    "typeof(t2)"
   ]
  },
  {
   "cell_type": "code",
   "execution_count": 57,
   "metadata": {
    "collapsed": false
   },
   "outputs": [
    {
     "name": "stdout",
     "output_type": "stream",
     "text": [
      "Expr\n",
      "  head: Symbol vect\n",
      "  args: Array{Any}((2,))\n",
      "    1: Int64 1\n",
      "    2: Int64 2\n",
      "  typ: Any\n"
     ]
    }
   ],
   "source": [
    "dump(:([1,2]))"
   ]
  },
  {
   "cell_type": "code",
   "execution_count": 68,
   "metadata": {
    "collapsed": false
   },
   "outputs": [
    {
     "data": {
      "text/plain": [
       "monomials (generic function with 4 methods)"
      ]
     },
     "execution_count": 68,
     "metadata": {},
     "output_type": "execute_result"
    }
   ],
   "source": [
    "@generated function monomials(var, degree::Type{Val{d}}) where {d}\n",
    "    Expr(:tuple, [:(var^$i) for i in 0:d]...)\n",
    "end"
   ]
  },
  {
   "cell_type": "code",
   "execution_count": 69,
   "metadata": {
    "collapsed": false
   },
   "outputs": [
    {
     "data": {
      "text/plain": [
       "monomials (generic function with 4 methods)"
      ]
     },
     "execution_count": 69,
     "metadata": {},
     "output_type": "execute_result"
    }
   ],
   "source": [
    "function monomials(var, degree::Integer)\n",
    "    [var^i for i in 0:degree]\n",
    "end"
   ]
  },
  {
   "cell_type": "code",
   "execution_count": 70,
   "metadata": {
    "collapsed": false
   },
   "outputs": [
    {
     "data": {
      "text/plain": [
       "(x^0, x, x^2, x^3)"
      ]
     },
     "execution_count": 70,
     "metadata": {},
     "output_type": "execute_result"
    }
   ],
   "source": [
    "monomials(x, Val{3})"
   ]
  },
  {
   "cell_type": "code",
   "execution_count": 71,
   "metadata": {
    "collapsed": false
   },
   "outputs": [
    {
     "data": {
      "text/plain": [
       "BenchmarkTools.Trial: \n",
       "  memory estimate:  0 bytes\n",
       "  allocs estimate:  0\n",
       "  --------------\n",
       "  minimum time:     264.457 ns (0.00% GC)\n",
       "  median time:      290.012 ns (0.00% GC)\n",
       "  mean time:        292.450 ns (0.00% GC)\n",
       "  maximum time:     616.223 ns (0.00% GC)\n",
       "  --------------\n",
       "  samples:          10000\n",
       "  evals/sample:     328\n",
       "  time tolerance:   5.00%\n",
       "  memory tolerance: 1.00%"
      ]
     },
     "execution_count": 71,
     "metadata": {},
     "output_type": "execute_result"
    }
   ],
   "source": [
    "@benchmark monomials($x, $Val{3})"
   ]
  },
  {
   "cell_type": "code",
   "execution_count": 66,
   "metadata": {
    "collapsed": false
   },
   "outputs": [
    {
     "name": "stdout",
     "output_type": "stream",
     "text": [
      "Variables:\n",
      "  #self#::#monomials\n",
      "  var::sp.Variable{:x}\n",
      "  degree\u001b[1m\u001b[91m::Any\u001b[39m\u001b[22m\n",
      "  T\u001b[1m\u001b[91m::Any\u001b[39m\u001b[22m\n",
      "\n",
      "Body:\n",
      "  begin  # line 2:\n",
      "      SSAValue(0) = (Core.tuple)($(QuoteNode(x^0)), $(QuoteNode(x)), $(QuoteNode(x^2)), $(QuoteNode(x^3)))::Tuple{sp.Monomial{(x^0,)},sp.Monomial{(x,)},sp.Monomial{(x^2,)},sp.Monomial{(x^3,)}}\n",
      "      $(Expr(:inbounds, false))\n",
      "      # meta: location array.jl vect 70\n",
      "      SSAValue(1) = (Base.nfields)(SSAValue(0))::Int64\n",
      "      # meta: pop location\n",
      "      $(Expr(:inbounds, :pop))\n",
      "      return $(Expr(:invoke, MethodInstance for copy!(::Array{sp.Monomial,1}, ::Tuple{sp.Monomial{(x^0,)},sp.Monomial{(x,)},sp.Monomial{(x^2,)},sp.Monomial{(x^3,)}}), :(Base.copy!), :($(Expr(:foreigncall, :(:jl_alloc_array_1d), Array{sp.Monomial,1}, svec(Any, Int64), :($(QuoteNode(Array{sp.Monomial,1}))), 0, SSAValue(1), 0))), SSAValue(0)))\n",
      "  end::Array{sp.Monomial,1}\n"
     ]
    }
   ],
   "source": [
    "@code_warntype monomials(x, Val{3})"
   ]
  },
  {
   "cell_type": "code",
   "execution_count": 54,
   "metadata": {
    "collapsed": false
   },
   "outputs": [
    {
     "name": "stdout",
     "output_type": "stream",
     "text": [
      "Variables:\n",
      "  #self#::#monomials\n",
      "  var::sp.Variable{:x}\n",
      "  degree::Int64\n",
      "  #13::##13#14{sp.Variable{:x}}\n",
      "\n",
      "Body:\n",
      "  begin \n",
      "      SSAValue(1) = $(Expr(:new, :($(QuoteNode(UnitRange{Int64}))), 0, :((Base.select_value)((Base.sle_int)(0, degree)::Bool, degree, (Base.sub_int)(0, 1)::Int64)::Int64)))\n",
      "      SSAValue(2) = $(Expr(:new, :($(QuoteNode(Base.Generator{UnitRange{Int64},##13#14{sp.Variable{:x}}}))), :($(QuoteNode(#13))), SSAValue(1)))\n",
      "      return $(Expr(:invoke, MethodInstance for collect(::Base.Generator{UnitRange{Int64},##13#14{sp.Variable{:x}}}), :(Base.collect), SSAValue(2)))\n",
      "  end\u001b[1m\u001b[91m::Array{_,1} where _\u001b[39m\u001b[22m\n"
     ]
    }
   ],
   "source": [
    "@code_warntype monomials(x, 3)"
   ]
  },
  {
   "cell_type": "code",
   "execution_count": 55,
   "metadata": {
    "collapsed": false
   },
   "outputs": [
    {
     "data": {
      "text/plain": [
       "BenchmarkTools.Trial: \n",
       "  memory estimate:  1.27 KiB\n",
       "  allocs estimate:  23\n",
       "  --------------\n",
       "  minimum time:     2.957 μs (0.00% GC)\n",
       "  median time:      4.043 μs (0.00% GC)\n",
       "  mean time:        4.283 μs (4.76% GC)\n",
       "  maximum time:     426.094 μs (97.29% GC)\n",
       "  --------------\n",
       "  samples:          10000\n",
       "  evals/sample:     9\n",
       "  time tolerance:   5.00%\n",
       "  memory tolerance: 1.00%"
      ]
     },
     "execution_count": 55,
     "metadata": {},
     "output_type": "execute_result"
    }
   ],
   "source": [
    "@benchmark monomials($x, 3)"
   ]
  },
  {
   "cell_type": "code",
   "execution_count": 104,
   "metadata": {
    "collapsed": false,
    "deletable": true,
    "editable": true
   },
   "outputs": [
    {
     "data": {
      "text/plain": [
       "30.0"
      ]
     },
     "execution_count": 104,
     "metadata": {},
     "output_type": "execute_result"
    }
   ],
   "source": [
    "t(x=>2, y=>5)"
   ]
  },
  {
   "cell_type": "code",
   "execution_count": 105,
   "metadata": {
    "collapsed": false,
    "deletable": true,
    "editable": true
   },
   "outputs": [
    {
     "name": "stdout",
     "output_type": "stream",
     "text": [
      "Variables:\n",
      "  m::IJulia.sp.Term{xy,Int64}\n",
      "  args::Tuple{Pair{IJulia.sp.Variable{:x},Int64},Pair{IJulia.sp.Variable{:y},Int64}}\n",
      "\n",
      "Body:\n",
      "  begin \n",
      "      SSAValue(5) = (Core.getfield)(args::Tuple{Pair{IJulia.sp.Variable{:x},Int64},Pair{IJulia.sp.Variable{:y},Int64}}, 1)::Pair{IJulia.sp.Variable{:x},Int64}\n",
      "      SSAValue(6) = (Core.getfield)(args::Tuple{Pair{IJulia.sp.Variable{:x},Int64},Pair{IJulia.sp.Variable{:y},Int64}}, 2)::Pair{IJulia.sp.Variable{:y},Int64}\n",
      "      $(Expr(:inbounds, false))\n",
      "      # meta: location /Users/rdeits/.julia/v0.5/StaticPolynomials/src/staticexponents.jl subs 190\n",
      "      # meta: location /Users/rdeits/.julia/v0.5/StaticPolynomials/src/staticexponents.jl subs 171\n",
      "      # meta: location /Users/rdeits/.julia/v0.5/StaticPolynomials/src/staticexponents.jl # line 184:\n",
      "      SSAValue(2) = $(Expr(:invoke, MethodInstance for ^(::Int64, ::Float64), :(Base.^), :((Core.getfield)(SSAValue(5), :second)::Int64), :((Base.div_float)((Base.sitofp)(Float64, (Core.getfield)(1//1, :num)::Int64)::Float64, (Base.sitofp)(Float64, (Core.getfield)(1//1, :den)::Int64)::Float64)::Float64)))\n",
      "      SSAValue(4) = (Base.mul_float)((Base.sitofp)(Float64, (Core.getfield)(m::IJulia.sp.Term{xy,Int64}, :coefficient)::Int64)::Float64, SSAValue(2))::Float64\n",
      "      # meta: pop location\n",
      "      # meta: pop location\n",
      "      # meta: location /Users/rdeits/.julia/v0.5/StaticPolynomials/src/staticexponents.jl subs 171\n",
      "      SSAValue(3) = $(Expr(:invoke, MethodInstance for ^(::Int64, ::Float64), :(Base.^), :((Core.getfield)(SSAValue(6), :second)::Int64), :((Base.div_float)((Base.sitofp)(Float64, (Core.getfield)(1//1, :num)::Int64)::Float64, (Base.sitofp)(Float64, (Core.getfield)(1//1, :den)::Int64)::Float64)::Float64)))\n",
      "      # meta: pop location\n",
      "      # meta: pop location\n",
      "      $(Expr(:inbounds, :pop))\n",
      "      return (Base.mul_float)(SSAValue(4), SSAValue(3))::Float64\n",
      "  end::Float64\n"
     ]
    }
   ],
   "source": [
    "@code_warntype t(x=>2, y=>5)"
   ]
  },
  {
   "cell_type": "code",
   "execution_count": 106,
   "metadata": {
    "collapsed": false,
    "deletable": true,
    "editable": true
   },
   "outputs": [
    {
     "data": {
      "text/plain": [
       "6.0y"
      ]
     },
     "execution_count": 106,
     "metadata": {},
     "output_type": "execute_result"
    }
   ],
   "source": [
    "t(x=>2)"
   ]
  },
  {
   "cell_type": "code",
   "execution_count": 107,
   "metadata": {
    "collapsed": false,
    "deletable": true,
    "editable": true
   },
   "outputs": [
    {
     "name": "stdout",
     "output_type": "stream",
     "text": [
      "Variables:\n",
      "  m::IJulia.sp.Term{xy,Int64}\n",
      "  args::Tuple{Pair{IJulia.sp.Variable{:x},Int64}}\n",
      "\n",
      "Body:\n",
      "  begin \n",
      "      $(Expr(:inbounds, false))\n",
      "      # meta: location /Users/rdeits/.julia/v0.5/StaticPolynomials/src/staticexponents.jl subs 171\n",
      "      # meta: location /Users/rdeits/.julia/v0.5/StaticPolynomials/src/staticexponents.jl # line 184:\n",
      "      SSAValue(1) = $(Expr(:invoke, MethodInstance for ^(::Int64, ::Float64), :(Base.^), :((Core.getfield)((Core.getfield)(args, 1)::Pair{IJulia.sp.Variable{:x},Int64}, :second)::Int64), :((Base.div_float)((Base.sitofp)(Float64, (Core.getfield)(1//1, :num)::Int64)::Float64, (Base.sitofp)(Float64, (Core.getfield)(1//1, :den)::Int64)::Float64)::Float64)))\n",
      "      SSAValue(0) = $(Expr(:new, :($(QuoteNode(IJulia.sp.Term{y,Float64}))), :((Base.mul_float)((Base.sitofp)(Float64, (Core.getfield)(m, :coefficient)::Int64)::Float64, SSAValue(1))::Float64)))\n",
      "      # meta: pop location\n",
      "      # meta: pop location\n",
      "      $(Expr(:inbounds, :pop))\n",
      "      return SSAValue(0)\n",
      "  end::IJulia.sp.Term{y,Float64}\n"
     ]
    }
   ],
   "source": [
    "@code_warntype t(x=>2)"
   ]
  },
  {
   "cell_type": "code",
   "execution_count": 64,
   "metadata": {
    "collapsed": false,
    "deletable": true,
    "editable": true
   },
   "outputs": [
    {
     "data": {
      "text/plain": [
       "Pair{IJulia.sp.Variable{:x},Int64}"
      ]
     },
     "execution_count": 64,
     "metadata": {},
     "output_type": "execute_result"
    }
   ],
   "source": [
    "typeof(x => 2)"
   ]
  },
  {
   "cell_type": "code",
   "execution_count": 65,
   "metadata": {
    "collapsed": false,
    "deletable": true,
    "editable": true
   },
   "outputs": [
    {
     "data": {
      "text/plain": [
       "x=>2"
      ]
     },
     "execution_count": 65,
     "metadata": {},
     "output_type": "execute_result"
    }
   ],
   "source": [
    "z = x => 2"
   ]
  },
  {
   "cell_type": "code",
   "execution_count": 66,
   "metadata": {
    "collapsed": false,
    "deletable": true,
    "editable": true
   },
   "outputs": [
    {
     "name": "stdout",
     "output_type": "stream",
     "text": [
      "Pair{IJulia.sp.Variable{:x},Int64}\n",
      "  first: IJulia.sp.Variable{:x} x\n",
      "  second: Int64 2\n"
     ]
    }
   ],
   "source": [
    "dump(z)"
   ]
  },
  {
   "cell_type": "code",
   "execution_count": 63,
   "metadata": {
    "collapsed": false,
    "deletable": true,
    "editable": true
   },
   "outputs": [
    {
     "data": {
      "text/plain": [
       "6.0y"
      ]
     },
     "execution_count": 63,
     "metadata": {},
     "output_type": "execute_result"
    }
   ],
   "source": [
    "sp.subs(t, x, 2)"
   ]
  },
  {
   "cell_type": "code",
   "execution_count": 37,
   "metadata": {
    "collapsed": false,
    "deletable": true,
    "editable": true
   },
   "outputs": [
    {
     "name": "stdout",
     "output_type": "stream",
     "text": [
      "Variables:\n",
      "  #self#::Base.#+\n",
      "  v1::IJulia.sp.Monomial{(x^2,)}\n",
      "  v2::IJulia.sp.Variable{:y}\n",
      "\n",
      "Body:\n",
      "  begin \n",
      "      return $(Expr(:new, :($(QuoteNode(IJulia.sp.Polynomial{Tuple{IJulia.sp.Term{x^2,Int64},IJulia.sp.Term{y,Int64}}}))), :((Core.tuple)($(Expr(:new, :($(QuoteNode(IJulia.sp.Term{x^2,Int64}))), 1)), $(Expr(:new, :($(QuoteNode(IJulia.sp.Term{y,Int64}))), 1)))::Tuple{IJulia.sp.Term{x^2,Int64},IJulia.sp.Term{y,Int64}})))\n",
      "  end::IJulia.sp.Polynomial{Tuple{IJulia.sp.Term{x^2,Int64},IJulia.sp.Term{y,Int64}}}\n"
     ]
    }
   ],
   "source": [
    "@code_warntype x * x + y"
   ]
  },
  {
   "cell_type": "code",
   "execution_count": 38,
   "metadata": {
    "collapsed": false,
    "deletable": true,
    "editable": true
   },
   "outputs": [
    {
     "data": {
      "text/plain": [
       "BenchmarkTools.Trial: \n",
       "  memory estimate:  0 bytes\n",
       "  allocs estimate:  0\n",
       "  --------------\n",
       "  minimum time:     1.694 ns (0.00% GC)\n",
       "  median time:      1.738 ns (0.00% GC)\n",
       "  mean time:        1.818 ns (0.00% GC)\n",
       "  maximum time:     9.446 ns (0.00% GC)\n",
       "  --------------\n",
       "  samples:          10000\n",
       "  evals/sample:     1000\n",
       "  time tolerance:   5.00%\n",
       "  memory tolerance: 1.00%"
      ]
     },
     "execution_count": 38,
     "metadata": {},
     "output_type": "execute_result"
    }
   ],
   "source": [
    "@benchmark $x^2 + $y"
   ]
  },
  {
   "cell_type": "code",
   "execution_count": 39,
   "metadata": {
    "collapsed": false,
    "deletable": true,
    "editable": true
   },
   "outputs": [
    {
     "data": {
      "text/plain": [
       "BenchmarkTools.Trial: \n",
       "  memory estimate:  0 bytes\n",
       "  allocs estimate:  0\n",
       "  --------------\n",
       "  minimum time:     1.984 ns (0.00% GC)\n",
       "  median time:      2.044 ns (0.00% GC)\n",
       "  mean time:        2.166 ns (0.00% GC)\n",
       "  maximum time:     35.285 ns (0.00% GC)\n",
       "  --------------\n",
       "  samples:          10000\n",
       "  evals/sample:     1000\n",
       "  time tolerance:   5.00%\n",
       "  memory tolerance: 1.00%"
      ]
     },
     "execution_count": 39,
     "metadata": {},
     "output_type": "execute_result"
    }
   ],
   "source": [
    "@benchmark $x^2 + $y + $x * $x + 3 * $x * $y + $x * $y^2"
   ]
  },
  {
   "cell_type": "code",
   "execution_count": 40,
   "metadata": {
    "collapsed": false,
    "deletable": true,
    "editable": true
   },
   "outputs": [
    {
     "data": {
      "text/plain": [
       "1x + 1y"
      ]
     },
     "execution_count": 40,
     "metadata": {},
     "output_type": "execute_result"
    }
   ],
   "source": [
    "x + y"
   ]
  },
  {
   "cell_type": "code",
   "execution_count": 41,
   "metadata": {
    "collapsed": false,
    "deletable": true,
    "editable": true
   },
   "outputs": [
    {
     "data": {
      "text/plain": [
       "x^2"
      ]
     },
     "execution_count": 41,
     "metadata": {},
     "output_type": "execute_result"
    }
   ],
   "source": [
    "x * x"
   ]
  },
  {
   "cell_type": "code",
   "execution_count": 42,
   "metadata": {
    "collapsed": false,
    "deletable": true,
    "editable": true
   },
   "outputs": [
    {
     "data": {
      "text/plain": [
       "2x"
      ]
     },
     "execution_count": 42,
     "metadata": {},
     "output_type": "execute_result"
    }
   ],
   "source": [
    "x + x"
   ]
  },
  {
   "cell_type": "code",
   "execution_count": 43,
   "metadata": {
    "collapsed": false,
    "deletable": true,
    "editable": true
   },
   "outputs": [
    {
     "data": {
      "text/plain": [
       "xy"
      ]
     },
     "execution_count": 43,
     "metadata": {},
     "output_type": "execute_result"
    }
   ],
   "source": [
    "x * y"
   ]
  },
  {
   "cell_type": "code",
   "execution_count": 44,
   "metadata": {
    "collapsed": false,
    "deletable": true,
    "editable": true
   },
   "outputs": [
    {
     "data": {
      "text/plain": [
       "4xy"
      ]
     },
     "execution_count": 44,
     "metadata": {},
     "output_type": "execute_result"
    }
   ],
   "source": [
    "1 * (x * y) + 3 * (x * y)"
   ]
  },
  {
   "cell_type": "code",
   "execution_count": 45,
   "metadata": {
    "collapsed": false,
    "deletable": true,
    "editable": true
   },
   "outputs": [
    {
     "data": {
      "text/plain": [
       "2x"
      ]
     },
     "execution_count": 45,
     "metadata": {},
     "output_type": "execute_result"
    }
   ],
   "source": [
    "x^1 + x^1"
   ]
  },
  {
   "cell_type": "code",
   "execution_count": 46,
   "metadata": {
    "collapsed": false,
    "deletable": true,
    "editable": true
   },
   "outputs": [
    {
     "data": {
      "text/plain": [
       "xy"
      ]
     },
     "execution_count": 46,
     "metadata": {},
     "output_type": "execute_result"
    }
   ],
   "source": [
    "x * y"
   ]
  },
  {
   "cell_type": "code",
   "execution_count": null,
   "metadata": {
    "collapsed": true,
    "deletable": true,
    "editable": true
   },
   "outputs": [],
   "source": []
  }
 ],
 "metadata": {
  "kernelspec": {
   "display_name": "Julia 0.6.0-pre.alpha",
   "language": "julia",
   "name": "julia-0.6"
  },
  "language_info": {
   "file_extension": ".jl",
   "mimetype": "application/julia",
   "name": "julia",
   "version": "0.6.0"
  }
 },
 "nbformat": 4,
 "nbformat_minor": 2
}
