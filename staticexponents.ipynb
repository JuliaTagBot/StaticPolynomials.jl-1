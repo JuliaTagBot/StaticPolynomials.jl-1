{
 "cells": [
  {
   "cell_type": "code",
   "execution_count": 1,
   "metadata": {
    "collapsed": true
   },
   "outputs": [],
   "source": [
    "using BenchmarkTools"
   ]
  },
  {
   "cell_type": "code",
   "execution_count": 2,
   "metadata": {
    "collapsed": false
   },
   "outputs": [
    {
     "data": {
      "text/plain": [
       "IJulia.sp"
      ]
     },
     "execution_count": 2,
     "metadata": {},
     "output_type": "execute_result"
    }
   ],
   "source": [
    "include(\"src/staticexponents.jl\")"
   ]
  },
  {
   "cell_type": "code",
   "execution_count": 3,
   "metadata": {
    "collapsed": false
   },
   "outputs": [
    {
     "data": {
      "text/plain": [
       "y"
      ]
     },
     "execution_count": 3,
     "metadata": {},
     "output_type": "execute_result"
    }
   ],
   "source": [
    "x = sp.Variable{:x}()\n",
    "y = sp.Variable{:y}()"
   ]
  },
  {
   "cell_type": "code",
   "execution_count": 5,
   "metadata": {
    "collapsed": false
   },
   "outputs": [
    {
     "data": {
      "text/html": [
       "^(x, p::<b>Integer</b>) at <a href=\"https://github.com/JuliaLang/julia/tree/470f6064c0f2315e7064e5c4f782dd95c0e847c3/base/intfuncs.jl#L196\" target=\"_blank\">intfuncs.jl:196</a>"
      ],
      "text/plain": [
       "^(x, p::Integer) in Base at intfuncs.jl:196"
      ]
     },
     "execution_count": 5,
     "metadata": {},
     "output_type": "execute_result"
    }
   ],
   "source": [
    "@which x^2"
   ]
  },
  {
   "cell_type": "code",
   "execution_count": 545,
   "metadata": {
    "collapsed": false
   },
   "outputs": [
    {
     "data": {
      "text/plain": [
       "1x^2y + 1y"
      ]
     },
     "execution_count": 545,
     "metadata": {},
     "output_type": "execute_result"
    }
   ],
   "source": [
    "x^2 * y + y"
   ]
  },
  {
   "cell_type": "code",
   "execution_count": 546,
   "metadata": {
    "collapsed": false
   },
   "outputs": [
    {
     "data": {
      "text/plain": [
       "IJulia.sp.Polynomial{Tuple{IJulia.sp.Term{x,Int64},IJulia.sp.Term{x^2,Int64},IJulia.sp.Term{x^2y,Int64},IJulia.sp.Term{y,Int64}}}"
      ]
     },
     "execution_count": 546,
     "metadata": {},
     "output_type": "execute_result"
    }
   ],
   "source": [
    "typeof(x^2 * y + y + x * x + x * y * x + x)"
   ]
  },
  {
   "cell_type": "code",
   "execution_count": 547,
   "metadata": {
    "collapsed": false
   },
   "outputs": [
    {
     "name": "stdout",
     "output_type": "stream",
     "text": [
      "Variables:\n",
      "  #self#::Base.#^\n",
      "  x::IJulia.sp.Variable{:x}\n",
      "  p::Int64\n",
      "\n",
      "Body:\n",
      "  begin \n",
      "      return $(Expr(:invoke, MethodInstance for power_by_squaring(::IJulia.sp.Variable{:x}, ::Int64), :(Base.power_by_squaring), :(x), :(p)))\n",
      "  end\u001b[1m\u001b[91m::Any\u001b[39m\u001b[22m\n"
     ]
    }
   ],
   "source": [
    "@code_warntype x^2"
   ]
  },
  {
   "cell_type": "code",
   "execution_count": 529,
   "metadata": {
    "collapsed": false
   },
   "outputs": [
    {
     "data": {
      "text/plain": [
       "BenchmarkTools.Trial: \n",
       "  memory estimate:  496 bytes\n",
       "  allocs estimate:  20\n",
       "  --------------\n",
       "  minimum time:     48.342 μs (0.00% GC)\n",
       "  median time:      50.207 μs (0.00% GC)\n",
       "  mean time:        61.199 μs (0.00% GC)\n",
       "  maximum time:     300.205 μs (0.00% GC)\n",
       "  --------------\n",
       "  samples:          10000\n",
       "  evals/sample:     1\n",
       "  time tolerance:   5.00%\n",
       "  memory tolerance: 1.00%"
      ]
     },
     "execution_count": 529,
     "metadata": {},
     "output_type": "execute_result"
    }
   ],
   "source": [
    "@benchmark $x^2 + $y + $x * $x + 3 * $x * $y + $x * $y^2"
   ]
  },
  {
   "cell_type": "code",
   "execution_count": 212,
   "metadata": {
    "collapsed": false
   },
   "outputs": [
    {
     "data": {
      "text/plain": [
       "IJulia.sp.Term{IJulia.sp.Monomial{((x, 1),)},Int64}"
      ]
     },
     "execution_count": 212,
     "metadata": {},
     "output_type": "execute_result"
    }
   ],
   "source": [
    "typeof(x + x)"
   ]
  },
  {
   "cell_type": "code",
   "execution_count": 201,
   "metadata": {
    "collapsed": false
   },
   "outputs": [
    {
     "ename": "LoadError",
     "evalue": "\u001b[91mMethodError: no method matching +(::IJulia.sp.Polynomial{Tuple{IJulia.sp.Term{IJulia.sp.Monomial{((x, 1),)},Int64}}}, ::IJulia.sp.Polynomial{Tuple{IJulia.sp.Term{IJulia.sp.Monomial{((y, 1),)},Int64}}})\u001b[0m\nClosest candidates are:\n  +(::Any, ::Any, \u001b[91m::Any\u001b[39m, \u001b[91m::Any...\u001b[39m) at operators.jl:424\u001b[39m",
     "output_type": "error",
     "traceback": [
      "\u001b[91mMethodError: no method matching +(::IJulia.sp.Polynomial{Tuple{IJulia.sp.Term{IJulia.sp.Monomial{((x, 1),)},Int64}}}, ::IJulia.sp.Polynomial{Tuple{IJulia.sp.Term{IJulia.sp.Monomial{((y, 1),)},Int64}}})\u001b[0m\nClosest candidates are:\n  +(::Any, ::Any, \u001b[91m::Any\u001b[39m, \u001b[91m::Any...\u001b[39m) at operators.jl:424\u001b[39m",
      "",
      "Stacktrace:",
      " [1] \u001b[1m+\u001b[22m\u001b[22m\u001b[1m(\u001b[22m\u001b[22m::IJulia.sp.Variable{:x}, ::IJulia.sp.Variable{:y}\u001b[1m)\u001b[22m\u001b[22m at \u001b[1m/Users/rdeits/.julia/v0.5/StaticPolynomials/src/staticexponents.jl:84\u001b[22m\u001b[22m"
     ]
    }
   ],
   "source": [
    "x + y"
   ]
  },
  {
   "cell_type": "code",
   "execution_count": 179,
   "metadata": {
    "collapsed": false
   },
   "outputs": [
    {
     "ename": "LoadError",
     "evalue": "\u001b[91mTypeError: typeassert: expected IJulia.sp.Term{#s2,T} where T where #s2<:IJulia.sp.Monomial, got IJulia.sp.Term{x^1,Int64}\u001b[39m",
     "output_type": "error",
     "traceback": [
      "\u001b[91mTypeError: typeassert: expected IJulia.sp.Term{#s2,T} where T where #s2<:IJulia.sp.Monomial, got IJulia.sp.Term{x^1,Int64}\u001b[39m",
      ""
     ]
    }
   ],
   "source": [
    "sp.Term(x) :: sp.Term{<: sp.Monomial}"
   ]
  },
  {
   "cell_type": "code",
   "execution_count": 177,
   "metadata": {
    "collapsed": false
   },
   "outputs": [
    {
     "data": {
      "text/plain": [
       "false"
      ]
     },
     "execution_count": 177,
     "metadata": {},
     "output_type": "execute_result"
    }
   ],
   "source": [
    "typeof(sp.Term(x)) <: Type{sp.Term{<:sp.Monomial, Int}}"
   ]
  },
  {
   "cell_type": "code",
   "execution_count": 167,
   "metadata": {
    "collapsed": false
   },
   "outputs": [
    {
     "data": {
      "text/html": [
       "+(t1::<b>IJulia.sp.Term</b>, t2::<b>IJulia.sp.Term</b>) at <a href=\"https://github.com/rdeits/StaticPolynomials.jl/tree/1321763fffe950126ab39ed1e32143d6e8efe8b8//src/staticexponents.jl#L73\" target=\"_blank\">/Users/rdeits/.julia/v0.5/StaticPolynomials/src/staticexponents.jl:73</a>"
      ],
      "text/plain": [
       "+(t1::IJulia.sp.Term, t2::IJulia.sp.Term) in IJulia.sp at /Users/rdeits/.julia/v0.5/StaticPolynomials/src/staticexponents.jl:73"
      ]
     },
     "execution_count": 167,
     "metadata": {},
     "output_type": "execute_result"
    }
   ],
   "source": [
    "@which sp.Term(x) + sp.Term(y)"
   ]
  },
  {
   "cell_type": "code",
   "execution_count": 150,
   "metadata": {
    "collapsed": false
   },
   "outputs": [
    {
     "data": {
      "text/plain": [
       "Tuple{IJulia.sp.Variable{:x},IJulia.sp.Variable{:y}}"
      ]
     },
     "execution_count": 150,
     "metadata": {},
     "output_type": "execute_result"
    }
   ],
   "source": [
    "typeof(promote(x, y))"
   ]
  },
  {
   "cell_type": "code",
   "execution_count": 151,
   "metadata": {
    "collapsed": false
   },
   "outputs": [
    {
     "ename": "LoadError",
     "evalue": "\u001b[91mMethodError: Cannot `convert` an object of type IJulia.sp.Variable{:x} to an object of type IJulia.sp.Term\nThis may have arisen from a call to the constructor IJulia.sp.Term(...),\nsince type constructors fall back to convert methods.\u001b[39m",
     "output_type": "error",
     "traceback": [
      "\u001b[91mMethodError: Cannot `convert` an object of type IJulia.sp.Variable{:x} to an object of type IJulia.sp.Term\nThis may have arisen from a call to the constructor IJulia.sp.Term(...),\nsince type constructors fall back to convert methods.\u001b[39m",
      "",
      "Stacktrace:",
      " [1] \u001b[1m+\u001b[22m\u001b[22m\u001b[1m(\u001b[22m\u001b[22m::IJulia.sp.Variable{:x}, ::IJulia.sp.Variable{:y}\u001b[1m)\u001b[22m\u001b[22m at \u001b[1m./In[148]:74\u001b[22m\u001b[22m"
     ]
    }
   ],
   "source": [
    "x + y"
   ]
  },
  {
   "cell_type": "code",
   "execution_count": 130,
   "metadata": {
    "collapsed": false
   },
   "outputs": [
    {
     "data": {
      "text/plain": [
       "x^2"
      ]
     },
     "execution_count": 130,
     "metadata": {},
     "output_type": "execute_result"
    }
   ],
   "source": [
    "x * x"
   ]
  },
  {
   "cell_type": "code",
   "execution_count": 131,
   "metadata": {
    "collapsed": false
   },
   "outputs": [
    {
     "data": {
      "text/plain": [
       "2x^1"
      ]
     },
     "execution_count": 131,
     "metadata": {},
     "output_type": "execute_result"
    }
   ],
   "source": [
    "x + x"
   ]
  },
  {
   "cell_type": "code",
   "execution_count": 132,
   "metadata": {
    "collapsed": false
   },
   "outputs": [
    {
     "data": {
      "text/plain": [
       "x^1y^1"
      ]
     },
     "execution_count": 132,
     "metadata": {},
     "output_type": "execute_result"
    }
   ],
   "source": [
    "x * y"
   ]
  },
  {
   "cell_type": "code",
   "execution_count": 135,
   "metadata": {
    "collapsed": false
   },
   "outputs": [
    {
     "data": {
      "text/plain": [
       "4x^1y^1"
      ]
     },
     "execution_count": 135,
     "metadata": {},
     "output_type": "execute_result"
    }
   ],
   "source": [
    "1 * (x * y) + 3 * (x * y)"
   ]
  },
  {
   "cell_type": "code",
   "execution_count": 85,
   "metadata": {
    "collapsed": false
   },
   "outputs": [
    {
     "data": {
      "text/plain": [
       "2x^1"
      ]
     },
     "execution_count": 85,
     "metadata": {},
     "output_type": "execute_result"
    }
   ],
   "source": [
    "x^1 + x^1"
   ]
  },
  {
   "cell_type": "code",
   "execution_count": 68,
   "metadata": {
    "collapsed": false
   },
   "outputs": [
    {
     "data": {
      "text/plain": [
       "x^1y^1"
      ]
     },
     "execution_count": 68,
     "metadata": {},
     "output_type": "execute_result"
    }
   ],
   "source": [
    "x * y"
   ]
  },
  {
   "cell_type": "code",
   "execution_count": null,
   "metadata": {
    "collapsed": true
   },
   "outputs": [],
   "source": []
  },
  {
   "cell_type": "code",
   "execution_count": null,
   "metadata": {
    "collapsed": true
   },
   "outputs": [],
   "source": [
    "sp.Monomial{}"
   ]
  },
  {
   "cell_type": "code",
   "execution_count": 16,
   "metadata": {
    "collapsed": false
   },
   "outputs": [
    {
     "ename": "LoadError",
     "evalue": "\u001b[91mUndefVarError: x not defined\u001b[39m",
     "output_type": "error",
     "traceback": [
      "\u001b[91mUndefVarError: x not defined\u001b[39m",
      "",
      "Stacktrace:",
      " [1] \u001b[1mmacro expansion\u001b[22m\u001b[22m at \u001b[1m./In[7]:37\u001b[22m\u001b[22m [inlined]",
      " [2] \u001b[1mpromote_rule\u001b[22m\u001b[22m at \u001b[1m./In[7]:27\u001b[22m\u001b[22m [inlined]",
      " [3] \u001b[1mpromote_type\u001b[22m\u001b[22m at \u001b[1m./promotion.jl:161\u001b[22m\u001b[22m [inlined]",
      " [4] \u001b[1mpromote\u001b[22m\u001b[22m\u001b[1m(\u001b[22m\u001b[22m::IJulia.sp.Power{:x,1}, ::IJulia.sp.Power{:y,1}\u001b[1m)\u001b[22m\u001b[22m at \u001b[1m./promotion.jl:174\u001b[22m\u001b[22m"
     ]
    }
   ],
   "source": [
    "Base.promote(sp.Power(x), sp.Power(y))"
   ]
  },
  {
   "cell_type": "code",
   "execution_count": 37,
   "metadata": {
    "collapsed": false
   },
   "outputs": [
    {
     "name": "stdout",
     "output_type": "stream",
     "text": [
      "Variables:\n",
      "  #self#::Base.#*\n",
      "  v1::IJulia.sp.Variable{:x}\n",
      "  v2::IJulia.sp.Variable{:x}\n",
      "\n",
      "Body:\n",
      "  begin \n",
      "      return $(QuoteNode(x^2))\n",
      "  end::IJulia.sp.Power{x,2}\n"
     ]
    }
   ],
   "source": [
    "@code_warntype x * x"
   ]
  },
  {
   "cell_type": "code",
   "execution_count": 19,
   "metadata": {
    "collapsed": false
   },
   "outputs": [
    {
     "data": {
      "text/plain": [
       "x^2"
      ]
     },
     "execution_count": 19,
     "metadata": {},
     "output_type": "execute_result"
    }
   ],
   "source": [
    "p = sp.Power{x, 2}()"
   ]
  },
  {
   "cell_type": "code",
   "execution_count": 401,
   "metadata": {
    "collapsed": false
   },
   "outputs": [
    {
     "name": "stderr",
     "output_type": "stream",
     "text": [
      "WARNING: replacing module m\n"
     ]
    },
    {
     "data": {
      "text/plain": [
       "IJulia.m"
      ]
     },
     "execution_count": 401,
     "metadata": {},
     "output_type": "execute_result"
    }
   ],
   "source": [
    "module m\n",
    "\n",
    "immutable Variable{Name}\n",
    "end\n",
    "\n",
    "immutable Power{V}\n",
    "    exponent::Rational{Int}\n",
    "end\n",
    "\n",
    "end"
   ]
  },
  {
   "cell_type": "code",
   "execution_count": 402,
   "metadata": {
    "collapsed": false
   },
   "outputs": [
    {
     "data": {
      "text/plain": [
       "IJulia.m.Power{IJulia.m.Variable{:x}()}(1//1)"
      ]
     },
     "execution_count": 402,
     "metadata": {},
     "output_type": "execute_result"
    }
   ],
   "source": [
    "m.Power{m.Variable{:x}()}(1)"
   ]
  },
  {
   "cell_type": "code",
   "execution_count": 397,
   "metadata": {
    "collapsed": false
   },
   "outputs": [
    {
     "ename": "LoadError",
     "evalue": "\u001b[91mTypeError: Power: in V, expected V<:IJulia.m.Variable, got IJulia.m.Variable{:x}\u001b[39m",
     "output_type": "error",
     "traceback": [
      "\u001b[91mTypeError: Power: in V, expected V<:IJulia.m.Variable, got IJulia.m.Variable{:x}\u001b[39m",
      ""
     ]
    }
   ],
   "source": [
    "m.Power{m.Variable{:x}()}"
   ]
  },
  {
   "cell_type": "code",
   "execution_count": null,
   "metadata": {
    "collapsed": true
   },
   "outputs": [],
   "source": []
  }
 ],
 "metadata": {
  "kernelspec": {
   "display_name": "Julia 0.6.0-pre.alpha",
   "language": "julia",
   "name": "julia-0.6"
  },
  "language_info": {
   "file_extension": ".jl",
   "mimetype": "application/julia",
   "name": "julia",
   "version": "0.6.0"
  }
 },
 "nbformat": 4,
 "nbformat_minor": 2
}
