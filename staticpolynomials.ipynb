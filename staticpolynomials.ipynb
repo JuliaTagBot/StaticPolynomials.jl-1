{
 "cells": [
  {
   "cell_type": "code",
   "execution_count": 150,
   "metadata": {
    "collapsed": false
   },
   "outputs": [],
   "source": [
    "using BenchmarkTools"
   ]
  },
  {
   "cell_type": "code",
   "execution_count": 223,
   "metadata": {
    "collapsed": false
   },
   "outputs": [
    {
     "name": "stderr",
     "output_type": "stream",
     "text": [
      "WARNING: replacing module sp\n"
     ]
    },
    {
     "data": {
      "text/plain": [
       "IJulia.sp"
      ]
     },
     "execution_count": 223,
     "metadata": {},
     "output_type": "execute_result"
    }
   ],
   "source": [
    "module sp\n",
    "\n",
    "import Base: *, +, ^, promote_rule, convert, show\n",
    "\n",
    "immutable Variable{Name}\n",
    "end\n",
    "\n",
    "show(io::IO, v::Variable{Name}) where Name = print(io, Name)\n",
    "\n",
    "immutable Monomial{N, V}\n",
    "    exponents::NTuple{N, Int64}\n",
    "end\n",
    "\n",
    "format_exponent(e) = e == 1 ? \"\" : \"^$e\"\n",
    "\n",
    "function show(io::IO, m::Monomial)\n",
    "    for (i, v) in enumerate(variables(m))\n",
    "        if m.exponents[i] != 0\n",
    "            print(io, v, format_exponent(m.exponents[i]))\n",
    "        end\n",
    "    end\n",
    "end\n",
    "\n",
    "variables(::Type{Monomial{N, V}}) where {N, V} = V\n",
    "variables(m::Monomial) = variables(typeof(m))\n",
    "\n",
    "Monomial(v::Variable{Name}) where Name = Monomial{1, (Name,)}((1,))\n",
    "\n",
    "*(v1::Variable{N1}, v2::Variable{N2}) where {N1, N2} = Monomial{2, (N1, N2)}((1, 1))\n",
    "*(v1::Variable{N}, v2::Variable{N}) where N = Monomial{1, (N,)}((2,))\n",
    "\n",
    "immutable Term{T, MonomialType <: Monomial}\n",
    "    coefficient::T\n",
    "    monomial::MonomialType\n",
    "end\n",
    "\n",
    "format_coefficient(c) = c == 1 ? \"\" : string(c)\n",
    "show(io::IO, t::Term) = print(io, format_coefficient(t.coefficient), t.monomial)\n",
    "\n",
    "Term(m::Monomial) = Term(1, m)\n",
    "Term(v::Variable) = Term(Monomial(v))\n",
    "\n",
    "@generated function convert(::Type{Term{T, Mono1}}, t::Term{T, Mono2}) where {T, Mono1, Mono2}\n",
    "    args = Any[0 for v in variables(Mono1)]\n",
    "    for (j, var) in enumerate(variables(Mono2))\n",
    "        I = find(v -> v == var, variables(Mono1))\n",
    "        if isempty(I)\n",
    "            throw(InexactError())\n",
    "        elseif length(I) > 1\n",
    "            error(\"Duplicate variables in destination $Mono1\")\n",
    "        end\n",
    "        args[I[1]] = :(t.monomial.exponents[$j])\n",
    "    end\n",
    "    quote\n",
    "        Term{$T, $Mono1}(t.coefficient, \n",
    "            Monomial{$(length(args)), $(variables(Mono1))}($(Expr(:tuple, args...))))\n",
    "    end\n",
    "end\n",
    "    \n",
    "        \n",
    "immutable Polynomial{M, TermType <: Term}\n",
    "    terms::NTuple{M, TermType}\n",
    "end\n",
    "\n",
    "\n",
    "function show(io::IO, p::Polynomial)\n",
    "    if !isempty(p.terms)\n",
    "        print(io, p.terms[1])\n",
    "        for i in 2:length(p.terms)\n",
    "            print(io, \" + \", p.terms[i])\n",
    "        end\n",
    "    end\n",
    "end\n",
    "    \n",
    "\n",
    "@generated function promote_rule(::Type{Term{T, Mono1}}, ::Type{Term{T, Mono2}}) where {T, Mono1, Mono2}\n",
    "    vars = Set{Symbol}()\n",
    "    for v in variables(Mono1)\n",
    "        push!(vars, v)\n",
    "    end\n",
    "    for v in variables(Mono2)\n",
    "        push!(vars, v)\n",
    "    end\n",
    "    vars = Tuple(sort(collect(vars)))\n",
    "    quote\n",
    "        Term{T, Monomial{$(length(vars)), $(vars)}}\n",
    "    end\n",
    "end\n",
    "\n",
    "(+)(t1::Term{T, Mono}, t2::Term{T, Mono}) where {T, Mono} = Polynomial((t1, t2))\n",
    "(+)(t1::Term{T, Mono1}, t2::Term{T, Mono2}) where {T, Mono1, Mono2} = +(promote(t1, t2)...)\n",
    "(+)(m1::Monomial, m2::Monomial) = Term(m1) + Term(m2)\n",
    "(+)(v1::Variable, v2::Variable) = Term(v1) + Term(v2)\n",
    "*(x::Number, m::Monomial) = Term(x, m)\n",
    "*(x::Number, v::Variable) = x * Monomial(v)\n",
    "^(v::Variable{Name}, x::Integer) where Name = Monomial{1, (Name,)}((x,))\n",
    "\n",
    "end"
   ]
  },
  {
   "cell_type": "code",
   "execution_count": 224,
   "metadata": {
    "collapsed": false
   },
   "outputs": [
    {
     "data": {
      "text/plain": [
       "y"
      ]
     },
     "execution_count": 224,
     "metadata": {},
     "output_type": "execute_result"
    }
   ],
   "source": [
    "x = sp.Variable{:x}()\n",
    "y = sp.Variable{:y}()"
   ]
  },
  {
   "cell_type": "code",
   "execution_count": 228,
   "metadata": {
    "collapsed": false
   },
   "outputs": [
    {
     "data": {
      "text/plain": [
       "BenchmarkTools.Trial: \n",
       "  memory estimate:  0 bytes\n",
       "  allocs estimate:  0\n",
       "  --------------\n",
       "  minimum time:     2.264 ns (0.00% GC)\n",
       "  median time:      2.268 ns (0.00% GC)\n",
       "  mean time:        2.287 ns (0.00% GC)\n",
       "  maximum time:     10.062 ns (0.00% GC)\n",
       "  --------------\n",
       "  samples:          10000\n",
       "  evals/sample:     1000\n",
       "  time tolerance:   5.00%\n",
       "  memory tolerance: 1.00%"
      ]
     },
     "execution_count": 228,
     "metadata": {},
     "output_type": "execute_result"
    }
   ],
   "source": [
    "@benchmark 3 * ($x * $y) + 2 * ($x ^2)"
   ]
  },
  {
   "cell_type": "code",
   "execution_count": 229,
   "metadata": {
    "collapsed": false
   },
   "outputs": [
    {
     "data": {
      "text/plain": [
       "3xy + 2x^2"
      ]
     },
     "execution_count": 229,
     "metadata": {},
     "output_type": "execute_result"
    }
   ],
   "source": [
    "p = 3 * (x * y) + 2 * (x ^ 2)"
   ]
  },
  {
   "cell_type": "code",
   "execution_count": 214,
   "metadata": {
    "collapsed": false
   },
   "outputs": [
    {
     "data": {
      "text/plain": [
       "(:x, :y)"
      ]
     },
     "execution_count": 214,
     "metadata": {},
     "output_type": "execute_result"
    }
   ],
   "source": [
    "sp.variables(p.terms[1].monomial)"
   ]
  },
  {
   "cell_type": "code",
   "execution_count": 205,
   "metadata": {
    "collapsed": false
   },
   "outputs": [
    {
     "data": {
      "text/plain": [
       "(1,)"
      ]
     },
     "execution_count": 205,
     "metadata": {},
     "output_type": "execute_result"
    }
   ],
   "source": [
    "p.terms[1].monomial.exponents"
   ]
  },
  {
   "cell_type": "code",
   "execution_count": 199,
   "metadata": {
    "collapsed": false
   },
   "outputs": [
    {
     "data": {
      "text/plain": [
       "x"
      ]
     },
     "execution_count": 199,
     "metadata": {},
     "output_type": "execute_result"
    }
   ],
   "source": [
    "x"
   ]
  },
  {
   "cell_type": "code",
   "execution_count": 200,
   "metadata": {
    "collapsed": false
   },
   "outputs": [
    {
     "data": {
      "text/plain": [
       "BenchmarkTools.Trial: \n",
       "  memory estimate:  0 bytes\n",
       "  allocs estimate:  0\n",
       "  --------------\n",
       "  minimum time:     2.253 ns (0.00% GC)\n",
       "  median time:      2.260 ns (0.00% GC)\n",
       "  mean time:        2.281 ns (0.00% GC)\n",
       "  maximum time:     14.022 ns (0.00% GC)\n",
       "  --------------\n",
       "  samples:          10000\n",
       "  evals/sample:     1000\n",
       "  time tolerance:   5.00%\n",
       "  memory tolerance: 1.00%"
      ]
     },
     "execution_count": 200,
     "metadata": {},
     "output_type": "execute_result"
    }
   ],
   "source": [
    "@benchmark $x + $y"
   ]
  }
 ],
 "metadata": {
  "kernelspec": {
   "display_name": "Julia 0.6.0-dev",
   "language": "julia",
   "name": "julia-0.6"
  },
  "language_info": {
   "file_extension": ".jl",
   "mimetype": "application/julia",
   "name": "julia",
   "version": "0.6.0"
  }
 },
 "nbformat": 4,
 "nbformat_minor": 2
}
