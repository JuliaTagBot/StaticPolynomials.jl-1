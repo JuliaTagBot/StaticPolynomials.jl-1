{
 "cells": [
  {
   "cell_type": "code",
   "execution_count": 150,
   "metadata": {
    "collapsed": false
   },
   "outputs": [],
   "source": [
    "using BenchmarkTools"
   ]
  },
  {
   "cell_type": "code",
   "execution_count": 143,
   "metadata": {
    "collapsed": false
   },
   "outputs": [
    {
     "name": "stderr",
     "output_type": "stream",
     "text": [
      "WARNING: replacing module sp\n"
     ]
    },
    {
     "data": {
      "text/plain": [
       "IJulia.sp"
      ]
     },
     "execution_count": 143,
     "metadata": {},
     "output_type": "execute_result"
    }
   ],
   "source": [
    "module sp\n",
    "\n",
    "import Base: *, +, promote_type, promote_op, promote_rule, convert\n",
    "\n",
    "immutable Variable{Name}\n",
    "end\n",
    "\n",
    "immutable Monomial{N, V}\n",
    "    exponents::NTuple{N, Int64}\n",
    "end\n",
    "\n",
    "variables(::Type{Monomial{N, V}}) where {N, V} = V\n",
    "\n",
    "Monomial(v::Variable{Name}) where Name = Monomial{1, (Name,)}((1,))\n",
    "\n",
    "*(v1::Variable{N1}, v2::Variable{N2}) where {N1, N2} = Monomial{2, (N1, N2)}((1, 1))\n",
    "*(v1::Variable{N}, v2::Variable{N}) where N = Monomial{1, (N,)}((2,))\n",
    "\n",
    "immutable Term{T, MonomialType <: Monomial}\n",
    "    coefficient::T\n",
    "    monomial::MonomialType\n",
    "end\n",
    "\n",
    "Term(m::Monomial) = Term(1, m)\n",
    "Term(v::Variable) = Term(Monomial(v))\n",
    "*(x::Number, m::Monomial) = Term(x, m)\n",
    "@generated function convert(::Type{Term{T, Mono1}}, t::Term{T, Mono2}) where {T, Mono1, Mono2}\n",
    "    args = Any[0 for v in variables(Mono1)]\n",
    "    for (j, var) in enumerate(variables(Mono2))\n",
    "        I = find(v -> v == var, variables(Mono1))\n",
    "        if isempty(I)\n",
    "            throw(InexactError())\n",
    "        elseif length(I) > 1\n",
    "            error(\"Duplicate variables in destination $Mono1\")\n",
    "        end\n",
    "        args[I[1]] = :(t.monomial.exponents[$j])\n",
    "    end\n",
    "    quote\n",
    "        Term{$T, $Mono1}(t.coefficient, \n",
    "            Monomial{$(length(args)), $(variables(Mono1))}($(Expr(:tuple, args...))))\n",
    "    end\n",
    "end\n",
    "    \n",
    "        \n",
    "immutable Polynomial{M, TermType <: Term}\n",
    "    terms::NTuple{M, TermType}\n",
    "end\n",
    "\n",
    "@generated function promote_rule(::Type{Term{T, Mono1}}, ::Type{Term{T, Mono2}}) where {T, Mono1, Mono2}\n",
    "    vars = Set{Symbol}()\n",
    "    for v in variables(Mono1)\n",
    "        push!(vars, v)\n",
    "    end\n",
    "    for v in variables(Mono2)\n",
    "        push!(vars, v)\n",
    "    end\n",
    "    vars = Tuple(sort(collect(vars)))\n",
    "    quote\n",
    "        Term{T, Monomial{$(length(vars)), $(vars)}}\n",
    "    end\n",
    "end\n",
    "\n",
    "(+)(t1::Term{T, Mono}, t2::Term{T, Mono}) where {T, Mono} = Polynomial((t1, t2))\n",
    "(+)(t1::Term{T, Mono1}, t2::Term{T, Mono2}) where {T, Mono1, Mono2} = +(promote(t1, t2)...)\n",
    "(+)(m1::Monomial, m2::Monomial) = Term(m1) + Term(m2)\n",
    "(+)(v1::Variable, v2::Variable) = Term(v1) + Term(v2)\n",
    "\n",
    "end"
   ]
  },
  {
   "cell_type": "code",
   "execution_count": 144,
   "metadata": {
    "collapsed": false
   },
   "outputs": [
    {
     "data": {
      "text/plain": [
       "IJulia.sp.Term{Int64,IJulia.sp.Monomial{1,(:y,)}}(1, IJulia.sp.Monomial{1,(:y,)}((1,)))"
      ]
     },
     "execution_count": 144,
     "metadata": {},
     "output_type": "execute_result"
    }
   ],
   "source": [
    "x = sp.Variable{:x}()\n",
    "y = sp.Variable{:y}()\n",
    "\n",
    "tx = sp.Term(x)\n",
    "ty = sp.Term(y)"
   ]
  },
  {
   "cell_type": "code",
   "execution_count": 152,
   "metadata": {
    "collapsed": false
   },
   "outputs": [
    {
     "data": {
      "text/plain": [
       "BenchmarkTools.Trial: \n",
       "  memory estimate:  0 bytes\n",
       "  allocs estimate:  0\n",
       "  --------------\n",
       "  minimum time:     2.253 ns (0.00% GC)\n",
       "  median time:      2.462 ns (0.00% GC)\n",
       "  mean time:        3.113 ns (0.00% GC)\n",
       "  maximum time:     47.258 ns (0.00% GC)\n",
       "  --------------\n",
       "  samples:          10000\n",
       "  evals/sample:     1000\n",
       "  time tolerance:   5.00%\n",
       "  memory tolerance: 1.00%"
      ]
     },
     "execution_count": 152,
     "metadata": {},
     "output_type": "execute_result"
    }
   ],
   "source": [
    "@benchmark $x + $y"
   ]
  },
  {
   "cell_type": "code",
   "execution_count": 105,
   "metadata": {
    "collapsed": false
   },
   "outputs": [
    {
     "data": {
      "text/plain": [
       "IJulia.sp.Term{Int64,IJulia.sp.Monomial{2,(:y, :x)}}"
      ]
     },
     "execution_count": 105,
     "metadata": {},
     "output_type": "execute_result"
    }
   ],
   "source": [
    "Base.promote_type(typeof(sp.Term(x)), typeof(sp.Term(y)))"
   ]
  },
  {
   "cell_type": "code",
   "execution_count": 106,
   "metadata": {
    "collapsed": false
   },
   "outputs": [
    {
     "ename": "LoadError",
     "evalue": "\u001b[91mMethodError: no method matching +(::IJulia.sp.Term{Int64,IJulia.sp.Monomial{1,(:x,)}}, ::IJulia.sp.Term{Int64,IJulia.sp.Monomial{1,(:y,)}})\u001b[0m\nClosest candidates are:\n  +(::Any, ::Any, \u001b[91m::Any\u001b[39m, \u001b[91m::Any...\u001b[39m) at operators.jl:424\n  +(::IJulia.sp.Term{T,Mono}, \u001b[91m::IJulia.sp.Term{T,Mono}\u001b[39m) where {T, Mono} at In[102]:45\u001b[39m",
     "output_type": "error",
     "traceback": [
      "\u001b[91mMethodError: no method matching +(::IJulia.sp.Term{Int64,IJulia.sp.Monomial{1,(:x,)}}, ::IJulia.sp.Term{Int64,IJulia.sp.Monomial{1,(:y,)}})\u001b[0m\nClosest candidates are:\n  +(::Any, ::Any, \u001b[91m::Any\u001b[39m, \u001b[91m::Any...\u001b[39m) at operators.jl:424\n  +(::IJulia.sp.Term{T,Mono}, \u001b[91m::IJulia.sp.Term{T,Mono}\u001b[39m) where {T, Mono} at In[102]:45\u001b[39m",
      "",
      "Stacktrace:",
      " [1] \u001b[1m+\u001b[22m\u001b[22m\u001b[1m(\u001b[22m\u001b[22m::IJulia.sp.Variable{:x}, ::IJulia.sp.Variable{:y}\u001b[1m)\u001b[22m\u001b[22m at \u001b[1m./In[102]:47\u001b[22m\u001b[22m"
     ]
    }
   ],
   "source": [
    "x + y"
   ]
  },
  {
   "cell_type": "code",
   "execution_count": 67,
   "metadata": {
    "collapsed": false
   },
   "outputs": [
    {
     "data": {
      "text/plain": [
       "((1, 2, 3),)"
      ]
     },
     "execution_count": 67,
     "metadata": {},
     "output_type": "execute_result"
    }
   ],
   "source": [
    "tuple((1,2,3))"
   ]
  },
  {
   "cell_type": "code",
   "execution_count": 52,
   "metadata": {
    "collapsed": false
   },
   "outputs": [
    {
     "data": {
      "text/plain": [
       "IJulia.sp.Monomial{2,(:x, :y)}((1, 1))"
      ]
     },
     "execution_count": 52,
     "metadata": {},
     "output_type": "execute_result"
    }
   ],
   "source": [
    "x * y"
   ]
  },
  {
   "cell_type": "code",
   "execution_count": 53,
   "metadata": {
    "collapsed": false
   },
   "outputs": [
    {
     "data": {
      "text/plain": [
       "IJulia.sp.Term{Int64,IJulia.sp.Monomial{2,(:x, :y)}}(5, IJulia.sp.Monomial{2,(:x, :y)}((1, 1)))"
      ]
     },
     "execution_count": 53,
     "metadata": {},
     "output_type": "execute_result"
    }
   ],
   "source": [
    "5 * (x * y)"
   ]
  },
  {
   "cell_type": "code",
   "execution_count": 54,
   "metadata": {
    "collapsed": false
   },
   "outputs": [
    {
     "data": {
      "text/plain": [
       "IJulia.sp.Monomial{1,(:x,)}((2,))"
      ]
     },
     "execution_count": 54,
     "metadata": {},
     "output_type": "execute_result"
    }
   ],
   "source": [
    "x * x"
   ]
  },
  {
   "cell_type": "code",
   "execution_count": 48,
   "metadata": {
    "collapsed": false
   },
   "outputs": [
    {
     "data": {
      "text/plain": [
       "IJulia.sp.Polynomial{2,IJulia.sp.Term{Int64,IJulia.sp.Monomial{2,(:x, :y)}}}((IJulia.sp.Term{Int64,IJulia.sp.Monomial{2,(:x, :y)}}(5, IJulia.sp.Monomial{2,(:x, :y)}((1, 1))), IJulia.sp.Term{Int64,IJulia.sp.Monomial{2,(:x, :y)}}(3, IJulia.sp.Monomial{2,(:x, :y)}((1, 1)))))"
      ]
     },
     "execution_count": 48,
     "metadata": {},
     "output_type": "execute_result"
    }
   ],
   "source": [
    "5 * (x * y) + 3 * (x * y)"
   ]
  },
  {
   "cell_type": "code",
   "execution_count": null,
   "metadata": {
    "collapsed": true
   },
   "outputs": [],
   "source": []
  },
  {
   "cell_type": "code",
   "execution_count": 18,
   "metadata": {
    "collapsed": false
   },
   "outputs": [
    {
     "data": {
      "text/plain": [
       "IJulia.sp.Monomial{2,(:x, :y)}"
      ]
     },
     "execution_count": 18,
     "metadata": {},
     "output_type": "execute_result"
    }
   ],
   "source": [
    "sp.Monomial{2, (:x, :y)}"
   ]
  },
  {
   "cell_type": "code",
   "execution_count": null,
   "metadata": {
    "collapsed": true
   },
   "outputs": [],
   "source": []
  }
 ],
 "metadata": {
  "kernelspec": {
   "display_name": "Julia 0.6.0-dev",
   "language": "julia",
   "name": "julia-0.6"
  },
  "language_info": {
   "file_extension": ".jl",
   "mimetype": "application/julia",
   "name": "julia",
   "version": "0.6.0"
  }
 },
 "nbformat": 4,
 "nbformat_minor": 2
}
