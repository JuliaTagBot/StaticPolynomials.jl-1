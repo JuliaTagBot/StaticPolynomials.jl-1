{
 "cells": [
  {
   "cell_type": "code",
   "execution_count": 2,
   "metadata": {
    "collapsed": false
   },
   "outputs": [],
   "source": [
    "using BenchmarkTools"
   ]
  },
  {
   "cell_type": "code",
   "execution_count": 210,
   "metadata": {
    "collapsed": false
   },
   "outputs": [
    {
     "name": "stderr",
     "output_type": "stream",
     "text": [
      "WARNING: replacing module sp\n"
     ]
    },
    {
     "data": {
      "text/plain": [
       "IJulia.sp"
      ]
     },
     "execution_count": 210,
     "metadata": {},
     "output_type": "execute_result"
    }
   ],
   "source": [
    "include(\"src/staticvars.jl\")"
   ]
  },
  {
   "cell_type": "code",
   "execution_count": 211,
   "metadata": {
    "collapsed": false
   },
   "outputs": [
    {
     "data": {
      "text/plain": [
       "y"
      ]
     },
     "execution_count": 211,
     "metadata": {},
     "output_type": "execute_result"
    }
   ],
   "source": [
    "x = sp.Variable{:x}()\n",
    "y = sp.Variable{:y}()"
   ]
  },
  {
   "cell_type": "code",
   "execution_count": 212,
   "metadata": {
    "collapsed": false
   },
   "outputs": [
    {
     "data": {
      "text/plain": [
       "y + x"
      ]
     },
     "execution_count": 212,
     "metadata": {},
     "output_type": "execute_result"
    }
   ],
   "source": [
    "x + y"
   ]
  },
  {
   "cell_type": "code",
   "execution_count": 213,
   "metadata": {
    "collapsed": false
   },
   "outputs": [
    {
     "data": {
      "text/plain": [
       "2y + 3x"
      ]
     },
     "execution_count": 213,
     "metadata": {},
     "output_type": "execute_result"
    }
   ],
   "source": [
    "p = 3x + 2y"
   ]
  },
  {
   "cell_type": "code",
   "execution_count": 214,
   "metadata": {
    "collapsed": false
   },
   "outputs": [
    {
     "data": {
      "text/plain": [
       "y + xy + x^2"
      ]
     },
     "execution_count": 214,
     "metadata": {},
     "output_type": "execute_result"
    }
   ],
   "source": [
    "x^2 + y + x * y"
   ]
  },
  {
   "cell_type": "code",
   "execution_count": 215,
   "metadata": {
    "collapsed": false
   },
   "outputs": [
    {
     "data": {
      "text/plain": [
       "3xy + xy^2 + x^2 + y + x^2"
      ]
     },
     "execution_count": 215,
     "metadata": {},
     "output_type": "execute_result"
    }
   ],
   "source": [
    "p = x^2 + y + x * x + 3 * x * y + x * y^2"
   ]
  },
  {
   "cell_type": "code",
   "execution_count": 208,
   "metadata": {
    "collapsed": false
   },
   "outputs": [
    {
     "data": {
      "text/plain": [
       "BenchmarkTools.Trial: \n",
       "  memory estimate:  240 bytes\n",
       "  allocs estimate:  2\n",
       "  --------------\n",
       "  minimum time:     73.937 ns (0.00% GC)\n",
       "  median time:      80.489 ns (0.00% GC)\n",
       "  mean time:        101.192 ns (16.47% GC)\n",
       "  maximum time:     2.523 μs (91.66% GC)\n",
       "  --------------\n",
       "  samples:          10000\n",
       "  evals/sample:     973\n",
       "  time tolerance:   5.00%\n",
       "  memory tolerance: 1.00%"
      ]
     },
     "execution_count": 208,
     "metadata": {},
     "output_type": "execute_result"
    }
   ],
   "source": [
    "@benchmark $p + $x"
   ]
  },
  {
   "cell_type": "code",
   "execution_count": 217,
   "metadata": {
    "collapsed": false,
    "scrolled": false
   },
   "outputs": [
    {
     "name": "stdout",
     "output_type": "stream",
     "text": [
      "Variables:\n",
      "  #self#::IJulia.sp.#jointerms\n",
      "  t1::Array{IJulia.sp.Term{Int64,IJulia.sp.Monomial{2,(:x, :y)}},1}\n",
      "  t2::Array{IJulia.sp.Term{Int64,IJulia.sp.Monomial{2,(:x, :y)}},1}\n",
      "  j@_4::Int64\n",
      "  #temp#@_5::Int64\n",
      "  j@_6::Int64\n",
      "  #temp#@_7::Int64\n",
      "  terms::Array{IJulia.sp.Term{Int64,IJulia.sp.Monomial{2,(:x, :y)}},1}\n",
      "  i::Int64\n",
      "  i1::Int64\n",
      "  i2::Int64\n",
      "  deletions::Int64\n",
      "  #temp#@_13::Bool\n",
      "\n",
      "Body:\n",
      "  begin \n",
      "      SSAValue(9) = (Base.add_int)((Base.arraylen)(t1::Array{IJulia.sp.Term{Int64,IJulia.sp.Monomial{2,(:x, :y)}},1})::Int64, (Base.arraylen)(t2::Array{IJulia.sp.Term{Int64,IJulia.sp.Monomial{2,(:x, :y)}},1})::Int64)::Int64\n",
      "      terms::Array{IJulia.sp.Term{Int64,IJulia.sp.Monomial{2,(:x, :y)}},1} = $(Expr(:foreigncall, :(:jl_alloc_array_1d), Array{IJulia.sp.Term{Int64,IJulia.sp.Monomial{2,(:x, :y)}},1}, svec(Any, Int64), :($(QuoteNode(Array{IJulia.sp.Term{Int64,IJulia.sp.Monomial{2,(:x, :y)}},1}))), 0, SSAValue(9), 0)) # line 169:\n",
      "      i::Int64 = 1 # line 170:\n",
      "      i1::Int64 = 1 # line 171:\n",
      "      i2::Int64 = 1 # line 172:\n",
      "      deletions::Int64 = 0 # line 173:\n",
      "      12: \n",
      "      unless (Base.sle_int)(i1::Int64, (Base.arraylen)(t1::Array{IJulia.sp.Term{Int64,IJulia.sp.Monomial{2,(:x, :y)}},1})::Int64)::Bool goto 16\n",
      "      #temp#@_13::Bool = (Base.sle_int)(i2::Int64, (Base.arraylen)(t2::Array{IJulia.sp.Term{Int64,IJulia.sp.Monomial{2,(:x, :y)}},1})::Int64)::Bool\n",
      "      goto 18\n",
      "      16: \n",
      "      #temp#@_13::Bool = false\n",
      "      18: \n",
      "      unless #temp#@_13::Bool goto 87 # line 174:\n",
      "      SSAValue(12) = (Core.getfield)((Base.arrayref)(t1::Array{IJulia.sp.Term{Int64,IJulia.sp.Monomial{2,(:x, :y)}},1}, i1::Int64)::IJulia.sp.Term{Int64,IJulia.sp.Monomial{2,(:x, :y)}}, :monomial)::IJulia.sp.Monomial{2,(:x, :y)}\n",
      "      SSAValue(11) = (Core.getfield)((Base.arrayref)(t2::Array{IJulia.sp.Term{Int64,IJulia.sp.Monomial{2,(:x, :y)}},1}, i2::Int64)::IJulia.sp.Term{Int64,IJulia.sp.Monomial{2,(:x, :y)}}, :monomial)::IJulia.sp.Monomial{2,(:x, :y)}\n",
      "      unless $(Expr(:invoke, MethodInstance for isless(::Tuple{Int64,Int64}, ::Tuple{Int64,Int64}), :(Base.isless), :((Core.getfield)(SSAValue(12), :exponents)::Tuple{Int64,Int64}), :((Core.getfield)(SSAValue(11), :exponents)::Tuple{Int64,Int64}))) goto 40 # line 175:\n",
      "      SSAValue(0) = (Base.arrayref)(t1::Array{IJulia.sp.Term{Int64,IJulia.sp.Monomial{2,(:x, :y)}},1}, i1::Int64)::IJulia.sp.Term{Int64,IJulia.sp.Monomial{2,(:x, :y)}}\n",
      "      $(Expr(:inbounds, false))\n",
      "      # meta: location array.jl setindex! 526\n",
      "      # meta: location /Users/rdeits/.julia/v0.5/StaticPolynomials/src/staticvars.jl convert 70\n",
      "      # meta: location /Users/rdeits/.julia/v0.5/StaticPolynomials/src/staticvars.jl # line 81:\n",
      "      SSAValue(13) = $(Expr(:new, :($(QuoteNode(IJulia.sp.Term{Int64,IJulia.sp.Monomial{2,(:x, :y)}}))), :((Core.getfield)(SSAValue(0), :coefficient)::Int64), :($(Expr(:new, :($(QuoteNode(IJulia.sp.Monomial{2,(:x, :y)}))), :((Core.tuple)((Base.getfield)((Core.getfield)((Core.getfield)(SSAValue(0), :monomial)::IJulia.sp.Monomial{2,(:x, :y)}, :exponents)::Tuple{Int64,Int64}, 1)::Int64, (Base.getfield)((Core.getfield)((Core.getfield)(SSAValue(0), :monomial)::IJulia.sp.Monomial{2,(:x, :y)}, :exponents)::Tuple{Int64,Int64}, 2)::Int64)::Tuple{Int64,Int64}))))))\n",
      "      # meta: pop location\n",
      "      # meta: pop location\n",
      "      # meta: pop location\n",
      "      $(Expr(:inbounds, :pop))\n",
      "      (Base.arrayset)(terms::Array{IJulia.sp.Term{Int64,IJulia.sp.Monomial{2,(:x, :y)}},1}, SSAValue(13), i::Int64)::Array{IJulia.sp.Term{Int64,IJulia.sp.Monomial{2,(:x, :y)}},1} # line 176:\n",
      "      i1::Int64 = (Base.add_int)(i1::Int64, 1)::Int64\n",
      "      goto 82\n",
      "      40:  # line 177:\n",
      "      SSAValue(15) = (Core.getfield)((Base.arrayref)(t1::Array{IJulia.sp.Term{Int64,IJulia.sp.Monomial{2,(:x, :y)}},1}, i1::Int64)::IJulia.sp.Term{Int64,IJulia.sp.Monomial{2,(:x, :y)}}, :monomial)::IJulia.sp.Monomial{2,(:x, :y)}\n",
      "      SSAValue(14) = (Core.getfield)((Base.arrayref)(t2::Array{IJulia.sp.Term{Int64,IJulia.sp.Monomial{2,(:x, :y)}},1}, i2::Int64)::IJulia.sp.Term{Int64,IJulia.sp.Monomial{2,(:x, :y)}}, :monomial)::IJulia.sp.Monomial{2,(:x, :y)}\n",
      "      unless $(Expr(:invoke, MethodInstance for isless(::Tuple{Int64,Int64}, ::Tuple{Int64,Int64}), :(Base.isless), :((Core.getfield)(SSAValue(14), :exponents)::Tuple{Int64,Int64}), :((Core.getfield)(SSAValue(15), :exponents)::Tuple{Int64,Int64}))) goto 61 # line 178:\n",
      "      SSAValue(1) = (Base.arrayref)(t2::Array{IJulia.sp.Term{Int64,IJulia.sp.Monomial{2,(:x, :y)}},1}, i2::Int64)::IJulia.sp.Term{Int64,IJulia.sp.Monomial{2,(:x, :y)}}\n",
      "      $(Expr(:inbounds, false))\n",
      "      # meta: location array.jl setindex! 526\n",
      "      # meta: location /Users/rdeits/.julia/v0.5/StaticPolynomials/src/staticvars.jl convert 70\n",
      "      # meta: location /Users/rdeits/.julia/v0.5/StaticPolynomials/src/staticvars.jl # line 81:\n",
      "      SSAValue(16) = $(Expr(:new, :($(QuoteNode(IJulia.sp.Term{Int64,IJulia.sp.Monomial{2,(:x, :y)}}))), :((Core.getfield)(SSAValue(1), :coefficient)::Int64), :($(Expr(:new, :($(QuoteNode(IJulia.sp.Monomial{2,(:x, :y)}))), :((Core.tuple)((Base.getfield)((Core.getfield)((Core.getfield)(SSAValue(1), :monomial)::IJulia.sp.Monomial{2,(:x, :y)}, :exponents)::Tuple{Int64,Int64}, 1)::Int64, (Base.getfield)((Core.getfield)((Core.getfield)(SSAValue(1), :monomial)::IJulia.sp.Monomial{2,(:x, :y)}, :exponents)::Tuple{Int64,Int64}, 2)::Int64)::Tuple{Int64,Int64}))))))\n",
      "      # meta: pop location\n",
      "      # meta: pop location\n",
      "      # meta: pop location\n",
      "      $(Expr(:inbounds, :pop))\n",
      "      (Base.arrayset)(terms::Array{IJulia.sp.Term{Int64,IJulia.sp.Monomial{2,(:x, :y)}},1}, SSAValue(16), i::Int64)::Array{IJulia.sp.Term{Int64,IJulia.sp.Monomial{2,(:x, :y)}},1} # line 179:\n",
      "      i2::Int64 = (Base.add_int)(i2::Int64, 1)::Int64\n",
      "      goto 82\n",
      "      61:  # line 181:\n",
      "      SSAValue(22) = (Base.add_int)((Core.getfield)((Base.arrayref)(t1::Array{IJulia.sp.Term{Int64,IJulia.sp.Monomial{2,(:x, :y)}},1}, i1::Int64)::IJulia.sp.Term{Int64,IJulia.sp.Monomial{2,(:x, :y)}}, :coefficient)::Int64, (Core.getfield)((Base.arrayref)(t2::Array{IJulia.sp.Term{Int64,IJulia.sp.Monomial{2,(:x, :y)}},1}, i2::Int64)::IJulia.sp.Term{Int64,IJulia.sp.Monomial{2,(:x, :y)}}, :coefficient)::Int64)::Int64\n",
      "      SSAValue(23) = (Core.getfield)((Base.arrayref)(t1::Array{IJulia.sp.Term{Int64,IJulia.sp.Monomial{2,(:x, :y)}},1}, i1::Int64)::IJulia.sp.Term{Int64,IJulia.sp.Monomial{2,(:x, :y)}}, :monomial)::IJulia.sp.Monomial{2,(:x, :y)}\n",
      "      $(Expr(:inbounds, false))\n",
      "      # meta: location array.jl setindex! 526\n",
      "      # meta: location /Users/rdeits/.julia/v0.5/StaticPolynomials/src/staticvars.jl convert 70\n",
      "      # meta: location /Users/rdeits/.julia/v0.5/StaticPolynomials/src/staticvars.jl # line 81:\n",
      "      SSAValue(17) = $(Expr(:new, :($(QuoteNode(IJulia.sp.Term{Int64,IJulia.sp.Monomial{2,(:x, :y)}}))), SSAValue(22), :($(Expr(:new, :($(QuoteNode(IJulia.sp.Monomial{2,(:x, :y)}))), :((Core.tuple)((Base.getfield)((Core.getfield)(SSAValue(23), :exponents)::Tuple{Int64,Int64}, 1)::Int64, (Base.getfield)((Core.getfield)(SSAValue(23), :exponents)::Tuple{Int64,Int64}, 2)::Int64)::Tuple{Int64,Int64}))))))\n",
      "      # meta: pop location\n",
      "      # meta: pop location\n",
      "      # meta: pop location\n",
      "      $(Expr(:inbounds, :pop))\n",
      "      (Base.arrayset)(terms::Array{IJulia.sp.Term{Int64,IJulia.sp.Monomial{2,(:x, :y)}},1}, SSAValue(17), i::Int64)::Array{IJulia.sp.Term{Int64,IJulia.sp.Monomial{2,(:x, :y)}},1} # line 183:\n",
      "      i1::Int64 = (Base.add_int)(i1::Int64, 1)::Int64 # line 184:\n",
      "      i2::Int64 = (Base.add_int)(i2::Int64, 1)::Int64 # line 185:\n",
      "      deletions::Int64 = (Base.add_int)(deletions::Int64, 1)::Int64\n",
      "      82:  # line 187:\n",
      "      i::Int64 = (Base.add_int)(i::Int64, 1)::Int64\n",
      "      85: \n",
      "      goto 12\n",
      "      87:  # line 189:\n",
      "      SSAValue(18) = (Base.arraylen)(t1::Array{IJulia.sp.Term{Int64,IJulia.sp.Monomial{2,(:x, :y)}},1})::Int64\n",
      "      SSAValue(24) = i1::Int64\n",
      "      SSAValue(25) = (Base.select_value)((Base.sle_int)(i1::Int64, SSAValue(18))::Bool, SSAValue(18), (Base.sub_int)(i1::Int64, 1)::Int64)::Int64\n",
      "      #temp#@_5::Int64 = SSAValue(24)\n",
      "      93: \n",
      "      unless (Base.not_int)((#temp#@_5::Int64 === (Base.add_int)(SSAValue(25), 1)::Int64)::Bool)::Bool goto 116\n",
      "      SSAValue(26) = #temp#@_5::Int64\n",
      "      SSAValue(27) = (Base.add_int)(#temp#@_5::Int64, 1)::Int64\n",
      "      j@_4::Int64 = SSAValue(26)\n",
      "      #temp#@_5::Int64 = SSAValue(27) # line 190:\n",
      "      SSAValue(5) = (Base.arrayref)(t1::Array{IJulia.sp.Term{Int64,IJulia.sp.Monomial{2,(:x, :y)}},1}, j@_4::Int64)::IJulia.sp.Term{Int64,IJulia.sp.Monomial{2,(:x, :y)}}\n",
      "      $(Expr(:inbounds, false))\n",
      "      # meta: location array.jl setindex! 526\n",
      "      # meta: location /Users/rdeits/.julia/v0.5/StaticPolynomials/src/staticvars.jl convert 70\n",
      "      # meta: location /Users/rdeits/.julia/v0.5/StaticPolynomials/src/staticvars.jl # line 81:\n",
      "      SSAValue(19) = $(Expr(:new, :($(QuoteNode(IJulia.sp.Term{Int64,IJulia.sp.Monomial{2,(:x, :y)}}))), :((Core.getfield)(SSAValue(5), :coefficient)::Int64), :($(Expr(:new, :($(QuoteNode(IJulia.sp.Monomial{2,(:x, :y)}))), :((Core.tuple)((Base.getfield)((Core.getfield)((Core.getfield)(SSAValue(5), :monomial)::IJulia.sp.Monomial{2,(:x, :y)}, :exponents)::Tuple{Int64,Int64}, 1)::Int64, (Base.getfield)((Core.getfield)((Core.getfield)(SSAValue(5), :monomial)::IJulia.sp.Monomial{2,(:x, :y)}, :exponents)::Tuple{Int64,Int64}, 2)::Int64)::Tuple{Int64,Int64}))))))\n",
      "      # meta: pop location\n",
      "      # meta: pop location\n",
      "      # meta: pop location\n",
      "      $(Expr(:inbounds, :pop))\n",
      "      (Base.arrayset)(terms::Array{IJulia.sp.Term{Int64,IJulia.sp.Monomial{2,(:x, :y)}},1}, SSAValue(19), i::Int64)::Array{IJulia.sp.Term{Int64,IJulia.sp.Monomial{2,(:x, :y)}},1} # line 191:\n",
      "      i::Int64 = (Base.add_int)(i::Int64, 1)::Int64\n",
      "      114: \n",
      "      goto 93\n",
      "      116:  # line 193:\n",
      "      SSAValue(20) = (Base.arraylen)(t2::Array{IJulia.sp.Term{Int64,IJulia.sp.Monomial{2,(:x, :y)}},1})::Int64\n",
      "      SSAValue(28) = i2::Int64\n",
      "      SSAValue(29) = (Base.select_value)((Base.sle_int)(i2::Int64, SSAValue(20))::Bool, SSAValue(20), (Base.sub_int)(i2::Int64, 1)::Int64)::Int64\n",
      "      #temp#@_7::Int64 = SSAValue(28)\n",
      "      122: \n",
      "      unless (Base.not_int)((#temp#@_7::Int64 === (Base.add_int)(SSAValue(29), 1)::Int64)::Bool)::Bool goto 145\n",
      "      SSAValue(30) = #temp#@_7::Int64\n",
      "      SSAValue(31) = (Base.add_int)(#temp#@_7::Int64, 1)::Int64\n",
      "      j@_6::Int64 = SSAValue(30)\n",
      "      #temp#@_7::Int64 = SSAValue(31) # line 194:\n",
      "      SSAValue(8) = (Base.arrayref)(t2::Array{IJulia.sp.Term{Int64,IJulia.sp.Monomial{2,(:x, :y)}},1}, j@_6::Int64)::IJulia.sp.Term{Int64,IJulia.sp.Monomial{2,(:x, :y)}}\n",
      "      $(Expr(:inbounds, false))\n",
      "      # meta: location array.jl setindex! 526\n",
      "      # meta: location /Users/rdeits/.julia/v0.5/StaticPolynomials/src/staticvars.jl convert 70\n",
      "      # meta: location /Users/rdeits/.julia/v0.5/StaticPolynomials/src/staticvars.jl # line 81:\n",
      "      SSAValue(21) = $(Expr(:new, :($(QuoteNode(IJulia.sp.Term{Int64,IJulia.sp.Monomial{2,(:x, :y)}}))), :((Core.getfield)(SSAValue(8), :coefficient)::Int64), :($(Expr(:new, :($(QuoteNode(IJulia.sp.Monomial{2,(:x, :y)}))), :((Core.tuple)((Base.getfield)((Core.getfield)((Core.getfield)(SSAValue(8), :monomial)::IJulia.sp.Monomial{2,(:x, :y)}, :exponents)::Tuple{Int64,Int64}, 1)::Int64, (Base.getfield)((Core.getfield)((Core.getfield)(SSAValue(8), :monomial)::IJulia.sp.Monomial{2,(:x, :y)}, :exponents)::Tuple{Int64,Int64}, 2)::Int64)::Tuple{Int64,Int64}))))))\n",
      "      # meta: pop location\n",
      "      # meta: pop location\n",
      "      # meta: pop location\n",
      "      $(Expr(:inbounds, :pop))\n",
      "      (Base.arrayset)(terms::Array{IJulia.sp.Term{Int64,IJulia.sp.Monomial{2,(:x, :y)}},1}, SSAValue(21), i::Int64)::Array{IJulia.sp.Term{Int64,IJulia.sp.Monomial{2,(:x, :y)}},1} # line 195:\n",
      "      i::Int64 = (Base.add_int)(i::Int64, 1)::Int64\n",
      "      143: \n",
      "      goto 122\n",
      "      145:  # line 197:\n",
      "      return $(Expr(:invoke, MethodInstance for resize!(::Array{IJulia.sp.Term{Int64,IJulia.sp.Monomial{2,(:x, :y)}},1}, ::Int64), :(IJulia.sp.resize!), :(terms), :((Base.sub_int)((Base.arraylen)(terms)::Int64, deletions)::Int64)))\n",
      "  end::Array{IJulia.sp.Term{Int64,IJulia.sp.Monomial{2,(:x, :y)}},1}\n"
     ]
    }
   ],
   "source": [
    "@code_warntype sp.jointerms(p.terms, p.terms)"
   ]
  },
  {
   "cell_type": "code",
   "execution_count": 209,
   "metadata": {
    "collapsed": false
   },
   "outputs": [
    {
     "data": {
      "text/plain": [
       "BenchmarkTools.Trial: \n",
       "  memory estimate:  768 bytes\n",
       "  allocs estimate:  8\n",
       "  --------------\n",
       "  minimum time:     276.022 ns (0.00% GC)\n",
       "  median time:      309.009 ns (0.00% GC)\n",
       "  mean time:        408.990 ns (17.10% GC)\n",
       "  maximum time:     12.975 μs (90.53% GC)\n",
       "  --------------\n",
       "  samples:          10000\n",
       "  evals/sample:     271\n",
       "  time tolerance:   5.00%\n",
       "  memory tolerance: 1.00%"
      ]
     },
     "execution_count": 209,
     "metadata": {},
     "output_type": "execute_result"
    }
   ],
   "source": [
    "@benchmark $x^2 + $y + $x * $x + 3 * $x * $y + $x * $y^2"
   ]
  },
  {
   "cell_type": "code",
   "execution_count": 158,
   "metadata": {
    "collapsed": false
   },
   "outputs": [
    {
     "data": {
      "text/plain": [
       "false"
      ]
     },
     "execution_count": 158,
     "metadata": {},
     "output_type": "execute_result"
    }
   ],
   "source": [
    "issorted(reverse(getfield.(p.terms, :monomial)))"
   ]
  },
  {
   "cell_type": "code",
   "execution_count": 157,
   "metadata": {
    "collapsed": false
   },
   "outputs": [
    {
     "data": {
      "text/plain": [
       "4-element Array{IJulia.sp.Monomial{2,(:x, :y)},1}:\n",
       " x^2 \n",
       " y   \n",
       " xy  \n",
       " xy^2"
      ]
     },
     "execution_count": 157,
     "metadata": {},
     "output_type": "execute_result"
    }
   ],
   "source": [
    "getfield.(p.terms, :monomial)"
   ]
  },
  {
   "cell_type": "code",
   "execution_count": 136,
   "metadata": {
    "collapsed": false
   },
   "outputs": [
    {
     "data": {
      "text/plain": [
       "BenchmarkTools.Trial: \n",
       "  memory estimate:  320 bytes\n",
       "  allocs estimate:  4\n",
       "  --------------\n",
       "  minimum time:     203.301 ns (0.00% GC)\n",
       "  median time:      226.203 ns (0.00% GC)\n",
       "  mean time:        286.301 ns (14.39% GC)\n",
       "  maximum time:     7.831 μs (91.69% GC)\n",
       "  --------------\n",
       "  samples:          10000\n",
       "  evals/sample:     621\n",
       "  time tolerance:   5.00%\n",
       "  memory tolerance: 1.00%"
      ]
     },
     "execution_count": 136,
     "metadata": {},
     "output_type": "execute_result"
    }
   ],
   "source": [
    "@benchmark vcat($t1, convert(Vector, $t2))"
   ]
  },
  {
   "cell_type": "code",
   "execution_count": 135,
   "metadata": {
    "collapsed": false
   },
   "outputs": [
    {
     "data": {
      "text/plain": [
       "BenchmarkTools.Trial: \n",
       "  memory estimate:  176 bytes\n",
       "  allocs estimate:  1\n",
       "  --------------\n",
       "  minimum time:     51.105 ns (0.00% GC)\n",
       "  median time:      62.644 ns (0.00% GC)\n",
       "  mean time:        79.123 ns (11.28% GC)\n",
       "  maximum time:     2.142 μs (90.81% GC)\n",
       "  --------------\n",
       "  samples:          10000\n",
       "  evals/sample:     986\n",
       "  time tolerance:   5.00%\n",
       "  memory tolerance: 1.00%"
      ]
     },
     "execution_count": 135,
     "metadata": {},
     "output_type": "execute_result"
    }
   ],
   "source": [
    "@benchmark vcat($t1, $t1)"
   ]
  },
  {
   "cell_type": "code",
   "execution_count": 49,
   "metadata": {
    "collapsed": false
   },
   "outputs": [
    {
     "data": {
      "text/plain": [
       "y"
      ]
     },
     "execution_count": 49,
     "metadata": {},
     "output_type": "execute_result"
    }
   ],
   "source": [
    "m1 = sp.Monomial{2, (x, y)}((1, 0))\n",
    "m2 = sp.Monomial{2, (x, y)}((0, 1))"
   ]
  },
  {
   "cell_type": "code",
   "execution_count": 50,
   "metadata": {
    "collapsed": false
   },
   "outputs": [
    {
     "data": {
      "text/plain": [
       "false"
      ]
     },
     "execution_count": 50,
     "metadata": {},
     "output_type": "execute_result"
    }
   ],
   "source": [
    "Base.isless(m1, m2)"
   ]
  },
  {
   "cell_type": "code",
   "execution_count": 52,
   "metadata": {
    "collapsed": false
   },
   "outputs": [
    {
     "data": {
      "text/plain": [
       "BenchmarkTools.Trial: \n",
       "  memory estimate:  0 bytes\n",
       "  allocs estimate:  0\n",
       "  --------------\n",
       "  minimum time:     3.092 ns (0.00% GC)\n",
       "  median time:      3.187 ns (0.00% GC)\n",
       "  mean time:        3.512 ns (0.00% GC)\n",
       "  maximum time:     20.902 ns (0.00% GC)\n",
       "  --------------\n",
       "  samples:          10000\n",
       "  evals/sample:     1000\n",
       "  time tolerance:   5.00%\n",
       "  memory tolerance: 1.00%"
      ]
     },
     "execution_count": 52,
     "metadata": {},
     "output_type": "execute_result"
    }
   ],
   "source": [
    "@benchmark $m1 < $m2"
   ]
  },
  {
   "cell_type": "code",
   "execution_count": 53,
   "metadata": {
    "collapsed": false
   },
   "outputs": [
    {
     "name": "stdout",
     "output_type": "stream",
     "text": [
      "Variables:\n",
      "  #self#::Base.#isless\n",
      "  m1::IJulia.sp.Monomial{2,(x, y)}\n",
      "  m2::IJulia.sp.Monomial{2,(x, y)}\n",
      "\n",
      "Body:\n",
      "  begin  # line 29:\n",
      "      # meta: location /Users/rdeits/.julia/v0.5/StaticPolynomials/src/staticvars.jl # line 39:\n",
      "      SSAValue(0) = $(Expr(:invoke, MethodInstance for isless(::Tuple{Int64,Int64}, ::Tuple{Int64,Int64}), :(Base.isless), :((Core.getfield)(m1, :exponents)::Tuple{Int64,Int64}), :((Core.getfield)(m2, :exponents)::Tuple{Int64,Int64})))\n",
      "      # meta: pop location\n",
      "      return SSAValue(0)\n",
      "  end::Bool\n"
     ]
    }
   ],
   "source": [
    "@code_warntype Base.isless(m1, m2)"
   ]
  },
  {
   "cell_type": "code",
   "execution_count": 55,
   "metadata": {
    "collapsed": false
   },
   "outputs": [
    {
     "data": {
      "text/plain": [
       "x"
      ]
     },
     "execution_count": 55,
     "metadata": {},
     "output_type": "execute_result"
    }
   ],
   "source": [
    "m3 = sp.Monomial{1, (x,)}((1,))"
   ]
  },
  {
   "cell_type": "code",
   "execution_count": 57,
   "metadata": {
    "collapsed": false
   },
   "outputs": [
    {
     "data": {
      "text/plain": [
       "BenchmarkTools.Trial: \n",
       "  memory estimate:  0 bytes\n",
       "  allocs estimate:  0\n",
       "  --------------\n",
       "  minimum time:     0.023 ns (0.00% GC)\n",
       "  median time:      0.036 ns (0.00% GC)\n",
       "  mean time:        0.041 ns (0.00% GC)\n",
       "  maximum time:     8.205 ns (0.00% GC)\n",
       "  --------------\n",
       "  samples:          10000\n",
       "  evals/sample:     1000\n",
       "  time tolerance:   5.00%\n",
       "  memory tolerance: 1.00%"
      ]
     },
     "execution_count": 57,
     "metadata": {},
     "output_type": "execute_result"
    }
   ],
   "source": [
    "@benchmark $m1 < $m3"
   ]
  },
  {
   "cell_type": "code",
   "execution_count": 45,
   "metadata": {
    "collapsed": false
   },
   "outputs": [
    {
     "data": {
      "text/plain": [
       "true"
      ]
     },
     "execution_count": 45,
     "metadata": {},
     "output_type": "execute_result"
    }
   ],
   "source": [
    "(x, y) < (x, y, x)"
   ]
  },
  {
   "cell_type": "code",
   "execution_count": 34,
   "metadata": {
    "collapsed": false
   },
   "outputs": [
    {
     "ename": "LoadError",
     "evalue": "\u001b[91mMethodError: no method matching isless(::IJulia.sp.Variable{:x}, ::IJulia.sp.Variable{:y})\u001b[39m",
     "output_type": "error",
     "traceback": [
      "\u001b[91mMethodError: no method matching isless(::IJulia.sp.Variable{:x}, ::IJulia.sp.Variable{:y})\u001b[39m",
      "",
      "Stacktrace:",
      " [1] \u001b[1m##core#706\u001b[22m\u001b[22m\u001b[1m(\u001b[22m\u001b[22m::IJulia.sp.Variable{:x}, ::IJulia.sp.Variable{:y}\u001b[1m)\u001b[22m\u001b[22m at \u001b[1m/Users/rdeits/.julia/v0.6/BenchmarkTools/src/execution.jl:283\u001b[22m\u001b[22m",
      " [2] \u001b[1m##sample#707\u001b[22m\u001b[22m\u001b[1m(\u001b[22m\u001b[22m::BenchmarkTools.Parameters\u001b[1m)\u001b[22m\u001b[22m at \u001b[1m/Users/rdeits/.julia/v0.6/BenchmarkTools/src/execution.jl:289\u001b[22m\u001b[22m",
      " [3] \u001b[1m#_run#31\u001b[22m\u001b[22m\u001b[1m(\u001b[22m\u001b[22m::Bool, ::String, ::Array{Any,1}, ::Function, ::BenchmarkTools.Benchmark{Symbol(\"##benchmark#705\")}, ::BenchmarkTools.Parameters\u001b[1m)\u001b[22m\u001b[22m at \u001b[1m/Users/rdeits/.julia/v0.6/BenchmarkTools/src/execution.jl:317\u001b[22m\u001b[22m",
      " [4] \u001b[1m(::BenchmarkTools.#kw##_run)\u001b[22m\u001b[22m\u001b[1m(\u001b[22m\u001b[22m::Array{Any,1}, ::BenchmarkTools.#_run, ::BenchmarkTools.Benchmark{Symbol(\"##benchmark#705\")}, ::BenchmarkTools.Parameters\u001b[1m)\u001b[22m\u001b[22m at \u001b[1m./<missing>:0\u001b[22m\u001b[22m",
      " [5] \u001b[1manonymous\u001b[22m\u001b[22m at \u001b[1m./<missing>:?\u001b[22m\u001b[22m",
      " [6] \u001b[1m#run_result#16\u001b[22m\u001b[22m\u001b[1m(\u001b[22m\u001b[22m::Array{Any,1}, ::Function, ::BenchmarkTools.Benchmark{Symbol(\"##benchmark#705\")}, ::BenchmarkTools.Parameters\u001b[1m)\u001b[22m\u001b[22m at \u001b[1m/Users/rdeits/.julia/v0.6/BenchmarkTools/src/execution.jl:33\u001b[22m\u001b[22m",
      " [7] \u001b[1m(::BenchmarkTools.#kw##run_result)\u001b[22m\u001b[22m\u001b[1m(\u001b[22m\u001b[22m::Array{Any,1}, ::BenchmarkTools.#run_result, ::BenchmarkTools.Benchmark{Symbol(\"##benchmark#705\")}, ::BenchmarkTools.Parameters\u001b[1m)\u001b[22m\u001b[22m at \u001b[1m./<missing>:0\u001b[22m\u001b[22m",
      " [8] \u001b[1m#run#17\u001b[22m\u001b[22m\u001b[1m(\u001b[22m\u001b[22m::Array{Any,1}, ::Function, ::BenchmarkTools.Benchmark{Symbol(\"##benchmark#705\")}, ::BenchmarkTools.Parameters\u001b[1m)\u001b[22m\u001b[22m at \u001b[1m/Users/rdeits/.julia/v0.6/BenchmarkTools/src/execution.jl:36\u001b[22m\u001b[22m",
      " [9] \u001b[1m(::Base.#kw##run)\u001b[22m\u001b[22m\u001b[1m(\u001b[22m\u001b[22m::Array{Any,1}, ::Base.#run, ::BenchmarkTools.Benchmark{Symbol(\"##benchmark#705\")}, ::BenchmarkTools.Parameters\u001b[1m)\u001b[22m\u001b[22m at \u001b[1m./<missing>:0\u001b[22m\u001b[22m",
      " [10] \u001b[1mwarmup\u001b[22m\u001b[22m\u001b[1m(\u001b[22m\u001b[22m::BenchmarkTools.Benchmark{Symbol(\"##benchmark#705\")}\u001b[1m)\u001b[22m\u001b[22m at \u001b[1m/Users/rdeits/.julia/v0.6/BenchmarkTools/src/execution.jl:71\u001b[22m\u001b[22m"
     ]
    }
   ],
   "source": [
    "@benchmark $x < $y"
   ]
  },
  {
   "cell_type": "code",
   "execution_count": 38,
   "metadata": {
    "collapsed": false
   },
   "outputs": [
    {
     "ename": "LoadError",
     "evalue": "\u001b[91mMethodError: no method matching isless(::IJulia.sp.Variable{:x}, ::IJulia.sp.Variable{:y})\u001b[39m",
     "output_type": "error",
     "traceback": [
      "\u001b[91mMethodError: no method matching isless(::IJulia.sp.Variable{:x}, ::IJulia.sp.Variable{:y})\u001b[39m",
      "",
      "Stacktrace:",
      " [1] \u001b[1misless\u001b[22m\u001b[22m\u001b[1m(\u001b[22m\u001b[22m::Tuple{IJulia.sp.Variable{:x},IJulia.sp.Variable{:y}}, ::Tuple{IJulia.sp.Variable{:y},IJulia.sp.Variable{:x}}\u001b[1m)\u001b[22m\u001b[22m at \u001b[1m./tuple.jl:260\u001b[22m\u001b[22m",
      " [2] \u001b[1m<\u001b[22m\u001b[22m\u001b[1m(\u001b[22m\u001b[22m::Tuple{IJulia.sp.Variable{:x},IJulia.sp.Variable{:y}}, ::Tuple{IJulia.sp.Variable{:y},IJulia.sp.Variable{:x}}\u001b[1m)\u001b[22m\u001b[22m at \u001b[1m./operators.jl:194\u001b[22m\u001b[22m"
     ]
    }
   ],
   "source": [
    "(x, y) < (y, x)"
   ]
  },
  {
   "cell_type": "code",
   "execution_count": 33,
   "metadata": {
    "collapsed": false
   },
   "outputs": [
    {
     "ename": "LoadError",
     "evalue": "\u001b[91mno method found for the specified argument types\u001b[39m",
     "output_type": "error",
     "traceback": [
      "\u001b[91mno method found for the specified argument types\u001b[39m",
      "",
      "Stacktrace:",
      " [1] \u001b[1mwhich\u001b[22m\u001b[22m\u001b[1m(\u001b[22m\u001b[22m::Any, ::Any\u001b[1m)\u001b[22m\u001b[22m at \u001b[1m./reflection.jl:828\u001b[22m\u001b[22m"
     ]
    }
   ],
   "source": [
    "@which Base.isless(x, y)"
   ]
  },
  {
   "cell_type": "code",
   "execution_count": 30,
   "metadata": {
    "collapsed": false
   },
   "outputs": [
    {
     "data": {
      "text/plain": [
       "(1, 0)"
      ]
     },
     "execution_count": 30,
     "metadata": {},
     "output_type": "execute_result"
    }
   ],
   "source": [
    "sp.exponents(m1)"
   ]
  },
  {
   "cell_type": "code",
   "execution_count": 25,
   "metadata": {
    "collapsed": false
   },
   "outputs": [
    {
     "name": "stdout",
     "output_type": "stream",
     "text": [
      "Variables:\n",
      "  #self#::Base.#isless\n",
      "  m1::IJulia.sp.Monomial{2,(x, y)}\n",
      "  m2::IJulia.sp.Monomial{2,(x, y)}\n",
      "\n",
      "Body:\n",
      "  begin \n",
      "      SSAValue(0) = $(Expr(:invoke, MethodInstance for isless(::Tuple{IJulia.sp.Variable{:x},IJulia.sp.Variable{:y}}, ::Tuple{IJulia.sp.Variable{:x},IJulia.sp.Variable{:y}}), :(Base.isless), :($(QuoteNode((x, y)))), :($(QuoteNode((x, y))))))\n",
      "      unless SSAValue(0) goto 4\n",
      "      return SSAValue(0)\n",
      "      4: \n",
      "      unless $(Expr(:invoke, MethodInstance for ==(::Tuple{IJulia.sp.Variable{:x},IJulia.sp.Variable{:y}}, ::Tuple{IJulia.sp.Variable{:x},IJulia.sp.Variable{:y}}), :(IJulia.sp.==), :($(QuoteNode((x, y)))), :($(QuoteNode((x, y)))))) goto 7\n",
      "      return $(Expr(:invoke, MethodInstance for isless(::Tuple{Int64,Int64}, ::Tuple{Int64,Int64}), :(Base.isless), :((Core.getfield)(m1, :exponents)::Tuple{Int64,Int64}), :((Core.getfield)(m2, :exponents)::Tuple{Int64,Int64})))\n",
      "      7: \n",
      "      return false\n",
      "  end\u001b[1m\u001b[91m::Any\u001b[39m\u001b[22m\n"
     ]
    }
   ],
   "source": [
    "@code_warntype Base.isless(m1, m2)"
   ]
  },
  {
   "cell_type": "code",
   "execution_count": null,
   "metadata": {
    "collapsed": true
   },
   "outputs": [],
   "source": []
  }
 ],
 "metadata": {
  "kernelspec": {
   "display_name": "Julia 0.6.0-pre.alpha",
   "language": "julia",
   "name": "julia-0.6"
  },
  "language_info": {
   "file_extension": ".jl",
   "mimetype": "application/julia",
   "name": "julia",
   "version": "0.6.0"
  }
 },
 "nbformat": 4,
 "nbformat_minor": 2
}
