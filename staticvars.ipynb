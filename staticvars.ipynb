{
 "cells": [
  {
   "cell_type": "code",
   "execution_count": 1,
   "metadata": {
    "collapsed": false,
    "deletable": true,
    "editable": true
   },
   "outputs": [],
   "source": [
    "using BenchmarkTools\n",
    "using JuMP"
   ]
  },
  {
   "cell_type": "code",
   "execution_count": 404,
   "metadata": {
    "collapsed": false,
    "deletable": true,
    "editable": true
   },
   "outputs": [
    {
     "name": "stderr",
     "output_type": "stream",
     "text": [
      "WARNING: replacing module sp\n"
     ]
    },
    {
     "data": {
      "text/plain": [
       "sp"
      ]
     },
     "execution_count": 404,
     "metadata": {},
     "output_type": "execute_result"
    }
   ],
   "source": [
    "include(\"src/staticvars.jl\")"
   ]
  },
  {
   "cell_type": "code",
   "execution_count": 405,
   "metadata": {
    "collapsed": false,
    "deletable": true,
    "editable": true
   },
   "outputs": [
    {
     "data": {
      "text/plain": [
       "z"
      ]
     },
     "execution_count": 405,
     "metadata": {},
     "output_type": "execute_result"
    }
   ],
   "source": [
    "x = sp.Variable{:x}()\n",
    "y = sp.Variable{:y}()\n",
    "z = sp.Variable{:z}()"
   ]
  },
  {
   "cell_type": "code",
   "execution_count": 406,
   "metadata": {
    "collapsed": false,
    "deletable": true,
    "editable": true
   },
   "outputs": [
    {
     "data": {
      "text/plain": [
       "y + 2x^2"
      ]
     },
     "execution_count": 406,
     "metadata": {},
     "output_type": "execute_result"
    }
   ],
   "source": [
    "x^2 + y + x * x"
   ]
  },
  {
   "cell_type": "code",
   "execution_count": 407,
   "metadata": {
    "collapsed": false
   },
   "outputs": [
    {
     "data": {
      "text/plain": [
       "y + x^2"
      ]
     },
     "execution_count": 407,
     "metadata": {},
     "output_type": "execute_result"
    }
   ],
   "source": [
    "p = x^2 + y"
   ]
  },
  {
   "cell_type": "code",
   "execution_count": 408,
   "metadata": {
    "collapsed": false
   },
   "outputs": [
    {
     "data": {
      "text/plain": [
       "(y + x^2, x^2)"
      ]
     },
     "execution_count": 408,
     "metadata": {},
     "output_type": "execute_result"
    }
   ],
   "source": [
    "p1, p2 = promote(p, x * x)"
   ]
  },
  {
   "cell_type": "code",
   "execution_count": 409,
   "metadata": {
    "collapsed": false
   },
   "outputs": [
    {
     "data": {
      "text/plain": [
       "2-element Array{sp.Term{Int64,sp.Monomial{2,(:x, :y)}},1}:\n",
       " y   \n",
       " 2x^2"
      ]
     },
     "execution_count": 409,
     "metadata": {},
     "output_type": "execute_result"
    }
   ],
   "source": [
    "sp.jointerms(p1.terms, p2.terms)"
   ]
  },
  {
   "cell_type": "code",
   "execution_count": 410,
   "metadata": {
    "collapsed": false
   },
   "outputs": [
    {
     "data": {
      "text/plain": [
       "true"
      ]
     },
     "execution_count": 410,
     "metadata": {},
     "output_type": "execute_result"
    }
   ],
   "source": [
    "p1.terms[1].monomial > p2.terms[1].monomial"
   ]
  },
  {
   "cell_type": "code",
   "execution_count": 411,
   "metadata": {
    "collapsed": false
   },
   "outputs": [
    {
     "data": {
      "text/plain": [
       "y"
      ]
     },
     "execution_count": 411,
     "metadata": {},
     "output_type": "execute_result"
    }
   ],
   "source": [
    "p1.terms[1].monomial"
   ]
  },
  {
   "cell_type": "code",
   "execution_count": 412,
   "metadata": {
    "collapsed": false
   },
   "outputs": [
    {
     "data": {
      "text/plain": [
       "y + 2x^2"
      ]
     },
     "execution_count": 412,
     "metadata": {},
     "output_type": "execute_result"
    }
   ],
   "source": [
    "p1 + p2"
   ]
  },
  {
   "cell_type": "code",
   "execution_count": 413,
   "metadata": {
    "collapsed": false
   },
   "outputs": [
    {
     "data": {
      "text/html": [
       "+<i>{T1, V1, T2, V2}</i>(p1::<b>sp.Polynomial{T1,V1}</b>, p2::<b>sp.Polynomial{T2,V2}</b>) at <a href=\"https://github.com/rdeits/StaticPolynomials.jl/tree/b5f3c139695a199604720234fafd38f4cd116d20//src/staticvars.jl#L212\" target=\"_blank\">/home/rdeits/.julia/v0.6/StaticPolynomials/src/staticvars.jl:212</a>"
      ],
      "text/plain": [
       "+(p1::sp.Polynomial{T1,V1}, p2::sp.Polynomial{T2,V2}) where {T1, V1, T2, V2} in sp at /home/rdeits/.julia/v0.6/StaticPolynomials/src/staticvars.jl:212"
      ]
     },
     "execution_count": 413,
     "metadata": {},
     "output_type": "execute_result"
    }
   ],
   "source": [
    "@which p1 + p2"
   ]
  },
  {
   "cell_type": "code",
   "execution_count": 414,
   "metadata": {
    "collapsed": false
   },
   "outputs": [
    {
     "data": {
      "text/html": [
       "+(t1::<b>sp.PolynomialLike</b>, t2::<b>sp.PolynomialLike</b>) at <a href=\"https://github.com/rdeits/StaticPolynomials.jl/tree/b5f3c139695a199604720234fafd38f4cd116d20//src/staticvars.jl#L216\" target=\"_blank\">/home/rdeits/.julia/v0.6/StaticPolynomials/src/staticvars.jl:216</a>"
      ],
      "text/plain": [
       "+(t1::sp.PolynomialLike, t2::sp.PolynomialLike) in sp at /home/rdeits/.julia/v0.6/StaticPolynomials/src/staticvars.jl:216"
      ]
     },
     "execution_count": 414,
     "metadata": {},
     "output_type": "execute_result"
    }
   ],
   "source": [
    "@which p + x * x"
   ]
  },
  {
   "cell_type": "code",
   "execution_count": 415,
   "metadata": {
    "collapsed": false
   },
   "outputs": [
    {
     "data": {
      "text/plain": [
       "y^2 + x + x^2y"
      ]
     },
     "execution_count": 415,
     "metadata": {},
     "output_type": "execute_result"
    }
   ],
   "source": [
    "p = x^2 * y + y^2 + x"
   ]
  },
  {
   "cell_type": "code",
   "execution_count": 416,
   "metadata": {
    "collapsed": false
   },
   "outputs": [
    {
     "data": {
      "text/plain": [
       "7"
      ]
     },
     "execution_count": 416,
     "metadata": {},
     "output_type": "execute_result"
    }
   ],
   "source": [
    "sp.subs(p, x=>1, y=>2)"
   ]
  },
  {
   "cell_type": "code",
   "execution_count": 417,
   "metadata": {
    "collapsed": false
   },
   "outputs": [
    {
     "name": "stdout",
     "output_type": "stream",
     "text": [
      "Variables:\n",
      "  #self#::sp.#subs\n",
      "  v::sp.Polynomial{sp.Term{Int64,sp.Monomial{2,(:x, :y)}},Array{sp.Term{Int64,sp.Monomial{2,(:x, :y)}},1}}\n",
      "  s::Tuple{Pair{sp.Variable{:x},Int64},Pair{sp.Variable{:y},Int64}}\n",
      "\n",
      "Body:\n",
      "  begin \n",
      "      $(Expr(:inbounds, false))\n",
      "      # meta: location /home/rdeits/.julia/v0.6/StaticPolynomials/src/staticvars.jl subs 298\n",
      "      # meta: location /home/rdeits/.julia/v0.6/StaticPolynomials/src/staticvars.jl # line 301:\n",
      "      SSAValue(0) = $(Expr(:invoke, MethodInstance for subs_complete(::sp.Polynomial{sp.Term{Int64,sp.Monomial{2,(:x, :y)}},Array{sp.Term{Int64,sp.Monomial{2,(:x, :y)}},1}}, ::Tuple{Pair{sp.Variable{:x},Int64},Pair{sp.Variable{:y},Int64}}), :(sp.subs_complete), :(v), :(s)))\n",
      "      # meta: pop location\n",
      "      # meta: pop location\n",
      "      $(Expr(:inbounds, :pop))\n",
      "      return SSAValue(0)\n",
      "  end::Int64\n"
     ]
    }
   ],
   "source": [
    "@code_warntype sp.subs(p, x=>1, y=>2)"
   ]
  },
  {
   "cell_type": "code",
   "execution_count": 418,
   "metadata": {
    "collapsed": false
   },
   "outputs": [
    {
     "data": {
      "text/plain": [
       "x^2y"
      ]
     },
     "execution_count": 418,
     "metadata": {},
     "output_type": "execute_result"
    }
   ],
   "source": [
    "t1 = p.terms[3]\n",
    "m1 = t1.monomial"
   ]
  },
  {
   "cell_type": "code",
   "execution_count": 419,
   "metadata": {
    "collapsed": false
   },
   "outputs": [
    {
     "name": "stdout",
     "output_type": "stream",
     "text": [
      "Variables:\n",
      "  #self#::sp.#subs\n",
      "  v::sp.Monomial{2,(:x, :y)}\n",
      "  s::Tuple{Pair{sp.Variable{:x},Int64},Pair{sp.Variable{:y},Int64}}\n",
      "\n",
      "Body:\n",
      "  begin \n",
      "      $(Expr(:inbounds, false))\n",
      "      # meta: location /home/rdeits/.julia/v0.6/StaticPolynomials/src/staticvars.jl subs 266\n",
      "      SSAValue(1) = $(Expr(:invoke, MethodInstance for power_by_squaring(::Int64, ::Int64), :(Base.power_by_squaring), :((Core.getfield)((Base.getfield)(s, 1)::Pair{sp.Variable{:x},Int64}, :second)::Int64), :((Base.getfield)((Core.getfield)(v, :exponents)::Tuple{Int64,Int64}, 1)::Int64)))\n",
      "      SSAValue(0) = $(Expr(:invoke, MethodInstance for power_by_squaring(::Int64, ::Int64), :(Base.power_by_squaring), :((Core.getfield)((Base.getfield)(s, 2)::Pair{sp.Variable{:y},Int64}, :second)::Int64), :((Base.getfield)((Core.getfield)(v, :exponents)::Tuple{Int64,Int64}, 2)::Int64)))\n",
      "      # meta: pop location\n",
      "      $(Expr(:inbounds, :pop))\n",
      "      return (Base.mul_int)(SSAValue(1), SSAValue(0))::Int64\n",
      "  end::Int64\n"
     ]
    }
   ],
   "source": [
    "@code_warntype sp.subs(m1, x=>1, y=>2)"
   ]
  },
  {
   "cell_type": "code",
   "execution_count": 420,
   "metadata": {
    "collapsed": false
   },
   "outputs": [
    {
     "data": {
      "text/plain": [
       "BenchmarkTools.Trial: \n",
       "  memory estimate:  0 bytes\n",
       "  allocs estimate:  0\n",
       "  --------------\n",
       "  minimum time:     17.355 ns (0.00% GC)\n",
       "  median time:      25.403 ns (0.00% GC)\n",
       "  mean time:        24.884 ns (0.00% GC)\n",
       "  maximum time:     104.622 ns (0.00% GC)\n",
       "  --------------\n",
       "  samples:          10000\n",
       "  evals/sample:     998\n",
       "  time tolerance:   5.00%\n",
       "  memory tolerance: 1.00%"
      ]
     },
     "execution_count": 420,
     "metadata": {},
     "output_type": "execute_result"
    }
   ],
   "source": [
    "@benchmark sp.subs($p, $x=>1, $y=>2)"
   ]
  },
  {
   "cell_type": "code",
   "execution_count": 422,
   "metadata": {
    "collapsed": false
   },
   "outputs": [
    {
     "data": {
      "text/plain": [
       "BenchmarkTools.Trial: \n",
       "  memory estimate:  176 bytes\n",
       "  allocs estimate:  3\n",
       "  --------------\n",
       "  minimum time:     47.667 ns (0.00% GC)\n",
       "  median time:      62.003 ns (0.00% GC)\n",
       "  mean time:        83.096 ns (24.92% GC)\n",
       "  maximum time:     2.901 μs (96.25% GC)\n",
       "  --------------\n",
       "  samples:          10000\n",
       "  evals/sample:     989\n",
       "  time tolerance:   5.00%\n",
       "  memory tolerance: 1.00%"
      ]
     },
     "execution_count": 422,
     "metadata": {},
     "output_type": "execute_result"
    }
   ],
   "source": [
    "@benchmark sp.subs($p, $x=>4)"
   ]
  },
  {
   "cell_type": "code",
   "execution_count": 423,
   "metadata": {
    "collapsed": false
   },
   "outputs": [
    {
     "data": {
      "text/plain": [
       "y^2 + 1 + y"
      ]
     },
     "execution_count": 423,
     "metadata": {},
     "output_type": "execute_result"
    }
   ],
   "source": [
    "sp.subs(p, x=>1)"
   ]
  },
  {
   "cell_type": "code",
   "execution_count": 424,
   "metadata": {
    "collapsed": false,
    "deletable": true,
    "editable": true
   },
   "outputs": [
    {
     "data": {
      "text/plain": [
       "y + 3xy + xy^2 + 2x^2"
      ]
     },
     "execution_count": 424,
     "metadata": {},
     "output_type": "execute_result"
    }
   ],
   "source": [
    "p = x^2 + y + x * x + 3 * x * y + x * y^2"
   ]
  },
  {
   "cell_type": "code",
   "execution_count": 425,
   "metadata": {
    "collapsed": false
   },
   "outputs": [
    {
     "data": {
      "text/plain": [
       "4-element Array{sp.Monomial{1,(:x,)},1}:\n",
       " 1  \n",
       " x  \n",
       " x^2\n",
       " x^3"
      ]
     },
     "execution_count": 425,
     "metadata": {},
     "output_type": "execute_result"
    }
   ],
   "source": [
    "[x^i for i in 0:3]"
   ]
  },
  {
   "cell_type": "code",
   "execution_count": 426,
   "metadata": {
    "collapsed": false
   },
   "outputs": [
    {
     "name": "stdout",
     "output_type": "stream",
     "text": [
      "Variables:\n",
      "  #self#::#monomials\n",
      "  var::sp.Variable{:x}\n",
      "  degree::Int64\n",
      "  #13::##13#14{sp.Variable{:x}}\n",
      "\n",
      "Body:\n",
      "  begin \n",
      "      SSAValue(1) = $(Expr(:new, :($(QuoteNode(UnitRange{Int64}))), 0, :((Base.select_value)((Base.sle_int)(0, degree)::Bool, degree, (Base.sub_int)(0, 1)::Int64)::Int64)))\n",
      "      SSAValue(2) = $(Expr(:new, :($(QuoteNode(Base.Generator{UnitRange{Int64},##13#14{sp.Variable{:x}}}))), :($(QuoteNode(#13))), SSAValue(1)))\n",
      "      return $(Expr(:invoke, MethodInstance for collect(::Base.Generator{UnitRange{Int64},##13#14{sp.Variable{:x}}}), :(Base.collect), SSAValue(2)))\n",
      "  end::Array{sp.Monomial{1,(:x,)},1}\n"
     ]
    }
   ],
   "source": [
    "@code_warntype monomials(x, 3)"
   ]
  },
  {
   "cell_type": "code",
   "execution_count": 427,
   "metadata": {
    "collapsed": false
   },
   "outputs": [
    {
     "data": {
      "text/plain": [
       "BenchmarkTools.Trial: \n",
       "  memory estimate:  112 bytes\n",
       "  allocs estimate:  1\n",
       "  --------------\n",
       "  minimum time:     27.655 ns (0.00% GC)\n",
       "  median time:      45.063 ns (0.00% GC)\n",
       "  mean time:        56.239 ns (18.62% GC)\n",
       "  maximum time:     2.676 μs (94.49% GC)\n",
       "  --------------\n",
       "  samples:          10000\n",
       "  evals/sample:     995\n",
       "  time tolerance:   5.00%\n",
       "  memory tolerance: 1.00%"
      ]
     },
     "execution_count": 427,
     "metadata": {},
     "output_type": "execute_result"
    }
   ],
   "source": [
    "@benchmark monomials($x, 3)"
   ]
  },
  {
   "cell_type": "code",
   "execution_count": 428,
   "metadata": {
    "collapsed": false,
    "deletable": true,
    "editable": true
   },
   "outputs": [
    {
     "data": {
      "text/plain": [
       "BenchmarkTools.Trial: \n",
       "  memory estimate:  720 bytes\n",
       "  allocs estimate:  8\n",
       "  --------------\n",
       "  minimum time:     201.522 ns (0.00% GC)\n",
       "  median time:      225.298 ns (0.00% GC)\n",
       "  mean time:        294.069 ns (22.10% GC)\n",
       "  maximum time:     3.873 μs (91.58% GC)\n",
       "  --------------\n",
       "  samples:          10000\n",
       "  evals/sample:     611\n",
       "  time tolerance:   5.00%\n",
       "  memory tolerance: 1.00%"
      ]
     },
     "execution_count": 428,
     "metadata": {},
     "output_type": "execute_result"
    }
   ],
   "source": [
    "@benchmark $x^2 + $y + $x * $x + 3 * $x * $y + $x * $y^2"
   ]
  },
  {
   "cell_type": "code",
   "execution_count": 443,
   "metadata": {
    "collapsed": false,
    "deletable": true,
    "editable": true
   },
   "outputs": [
    {
     "data": {
      "text/plain": [
       "BenchmarkTools.Trial: \n",
       "  memory estimate:  208 bytes\n",
       "  allocs estimate:  4\n",
       "  --------------\n",
       "  minimum time:     56.595 ns (0.00% GC)\n",
       "  median time:      70.054 ns (0.00% GC)\n",
       "  mean time:        100.234 ns (28.55% GC)\n",
       "  maximum time:     4.325 μs (97.11% GC)\n",
       "  --------------\n",
       "  samples:          10000\n",
       "  evals/sample:     986\n",
       "  time tolerance:   5.00%\n",
       "  memory tolerance: 1.00%"
      ]
     },
     "execution_count": 443,
     "metadata": {},
     "output_type": "execute_result"
    }
   ],
   "source": [
    "@benchmark $x^2 + $y"
   ]
  },
  {
   "cell_type": "code",
   "execution_count": null,
   "metadata": {
    "collapsed": true
   },
   "outputs": [],
   "source": []
  }
 ],
 "metadata": {
  "kernelspec": {
   "display_name": "Julia 0.6.0-pre.alpha",
   "language": "julia",
   "name": "julia-0.6"
  },
  "language_info": {
   "file_extension": ".jl",
   "mimetype": "application/julia",
   "name": "julia",
   "version": "0.6.0"
  }
 },
 "nbformat": 4,
 "nbformat_minor": 2
}
